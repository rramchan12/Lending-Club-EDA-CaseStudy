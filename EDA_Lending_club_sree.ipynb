{
 "cells": [
  {
   "cell_type": "code",
   "execution_count": 704,
   "metadata": {},
   "outputs": [],
   "source": [
    "import pandas as pd;\n",
    "import matplotlib.pyplot as plt;\n",
    "%matplotlib inline\n",
    "import warnings\n",
    "warnings.filterwarnings(\"ignore\")\n",
    "import seaborn as sns\n",
    "pd.set_option('display.max_colwidth', None)\n",
    "pd.set_option('display.max_rows', 150)\n",
    "pd.set_option('display.max_columns', None)\n",
    "pd.set_option('float_format', '{:.2f}'.format)"
   ]
  },
  {
   "cell_type": "code",
   "execution_count": 705,
   "metadata": {},
   "outputs": [],
   "source": [
    "loan_df = pd.read_csv('loan-Copy1.csv', low_memory=False)"
   ]
  },
  {
   "cell_type": "code",
   "execution_count": 706,
   "metadata": {},
   "outputs": [
    {
     "data": {
      "text/plain": [
       "(39717, 111)"
      ]
     },
     "execution_count": 706,
     "metadata": {},
     "output_type": "execute_result"
    }
   ],
   "source": [
    "loan_df.shape"
   ]
  },
  {
   "cell_type": "code",
   "execution_count": 707,
   "metadata": {},
   "outputs": [
    {
     "data": {
      "text/html": [
       "<div>\n",
       "<style scoped>\n",
       "    .dataframe tbody tr th:only-of-type {\n",
       "        vertical-align: middle;\n",
       "    }\n",
       "\n",
       "    .dataframe tbody tr th {\n",
       "        vertical-align: top;\n",
       "    }\n",
       "\n",
       "    .dataframe thead th {\n",
       "        text-align: right;\n",
       "    }\n",
       "</style>\n",
       "<table border=\"1\" class=\"dataframe\">\n",
       "  <thead>\n",
       "    <tr style=\"text-align: right;\">\n",
       "      <th></th>\n",
       "      <th>id</th>\n",
       "      <th>member_id</th>\n",
       "      <th>loan_amnt</th>\n",
       "      <th>funded_amnt</th>\n",
       "      <th>funded_amnt_inv</th>\n",
       "      <th>installment</th>\n",
       "      <th>annual_inc</th>\n",
       "      <th>dti</th>\n",
       "      <th>delinq_2yrs</th>\n",
       "      <th>inq_last_6mths</th>\n",
       "      <th>mths_since_last_delinq</th>\n",
       "      <th>mths_since_last_record</th>\n",
       "      <th>open_acc</th>\n",
       "      <th>pub_rec</th>\n",
       "      <th>revol_bal</th>\n",
       "      <th>total_acc</th>\n",
       "      <th>out_prncp</th>\n",
       "      <th>out_prncp_inv</th>\n",
       "      <th>total_pymnt</th>\n",
       "      <th>total_pymnt_inv</th>\n",
       "      <th>total_rec_prncp</th>\n",
       "      <th>total_rec_int</th>\n",
       "      <th>total_rec_late_fee</th>\n",
       "      <th>recoveries</th>\n",
       "      <th>collection_recovery_fee</th>\n",
       "      <th>last_pymnt_amnt</th>\n",
       "      <th>collections_12_mths_ex_med</th>\n",
       "      <th>mths_since_last_major_derog</th>\n",
       "      <th>policy_code</th>\n",
       "      <th>annual_inc_joint</th>\n",
       "      <th>dti_joint</th>\n",
       "      <th>verification_status_joint</th>\n",
       "      <th>acc_now_delinq</th>\n",
       "      <th>tot_coll_amt</th>\n",
       "      <th>tot_cur_bal</th>\n",
       "      <th>open_acc_6m</th>\n",
       "      <th>open_il_6m</th>\n",
       "      <th>open_il_12m</th>\n",
       "      <th>open_il_24m</th>\n",
       "      <th>mths_since_rcnt_il</th>\n",
       "      <th>total_bal_il</th>\n",
       "      <th>il_util</th>\n",
       "      <th>open_rv_12m</th>\n",
       "      <th>open_rv_24m</th>\n",
       "      <th>max_bal_bc</th>\n",
       "      <th>all_util</th>\n",
       "      <th>total_rev_hi_lim</th>\n",
       "      <th>inq_fi</th>\n",
       "      <th>total_cu_tl</th>\n",
       "      <th>inq_last_12m</th>\n",
       "      <th>acc_open_past_24mths</th>\n",
       "      <th>avg_cur_bal</th>\n",
       "      <th>bc_open_to_buy</th>\n",
       "      <th>bc_util</th>\n",
       "      <th>chargeoff_within_12_mths</th>\n",
       "      <th>delinq_amnt</th>\n",
       "      <th>mo_sin_old_il_acct</th>\n",
       "      <th>mo_sin_old_rev_tl_op</th>\n",
       "      <th>mo_sin_rcnt_rev_tl_op</th>\n",
       "      <th>mo_sin_rcnt_tl</th>\n",
       "      <th>mort_acc</th>\n",
       "      <th>mths_since_recent_bc</th>\n",
       "      <th>mths_since_recent_bc_dlq</th>\n",
       "      <th>mths_since_recent_inq</th>\n",
       "      <th>mths_since_recent_revol_delinq</th>\n",
       "      <th>num_accts_ever_120_pd</th>\n",
       "      <th>num_actv_bc_tl</th>\n",
       "      <th>num_actv_rev_tl</th>\n",
       "      <th>num_bc_sats</th>\n",
       "      <th>num_bc_tl</th>\n",
       "      <th>num_il_tl</th>\n",
       "      <th>num_op_rev_tl</th>\n",
       "      <th>num_rev_accts</th>\n",
       "      <th>num_rev_tl_bal_gt_0</th>\n",
       "      <th>num_sats</th>\n",
       "      <th>num_tl_120dpd_2m</th>\n",
       "      <th>num_tl_30dpd</th>\n",
       "      <th>num_tl_90g_dpd_24m</th>\n",
       "      <th>num_tl_op_past_12m</th>\n",
       "      <th>pct_tl_nvr_dlq</th>\n",
       "      <th>percent_bc_gt_75</th>\n",
       "      <th>pub_rec_bankruptcies</th>\n",
       "      <th>tax_liens</th>\n",
       "      <th>tot_hi_cred_lim</th>\n",
       "      <th>total_bal_ex_mort</th>\n",
       "      <th>total_bc_limit</th>\n",
       "      <th>total_il_high_credit_limit</th>\n",
       "    </tr>\n",
       "  </thead>\n",
       "  <tbody>\n",
       "    <tr>\n",
       "      <th>count</th>\n",
       "      <td>39717.00</td>\n",
       "      <td>39717.00</td>\n",
       "      <td>39717.00</td>\n",
       "      <td>39717.00</td>\n",
       "      <td>39717.00</td>\n",
       "      <td>39717.00</td>\n",
       "      <td>39717.00</td>\n",
       "      <td>39717.00</td>\n",
       "      <td>39717.00</td>\n",
       "      <td>39717.00</td>\n",
       "      <td>14035.00</td>\n",
       "      <td>2786.00</td>\n",
       "      <td>39717.00</td>\n",
       "      <td>39717.00</td>\n",
       "      <td>39717.00</td>\n",
       "      <td>39717.00</td>\n",
       "      <td>39717.00</td>\n",
       "      <td>39717.00</td>\n",
       "      <td>39717.00</td>\n",
       "      <td>39717.00</td>\n",
       "      <td>39717.00</td>\n",
       "      <td>39717.00</td>\n",
       "      <td>39717.00</td>\n",
       "      <td>39717.00</td>\n",
       "      <td>39717.00</td>\n",
       "      <td>39717.00</td>\n",
       "      <td>39661.00</td>\n",
       "      <td>0.00</td>\n",
       "      <td>39717.00</td>\n",
       "      <td>0.00</td>\n",
       "      <td>0.00</td>\n",
       "      <td>0.00</td>\n",
       "      <td>39717.00</td>\n",
       "      <td>0.00</td>\n",
       "      <td>0.00</td>\n",
       "      <td>0.00</td>\n",
       "      <td>0.00</td>\n",
       "      <td>0.00</td>\n",
       "      <td>0.00</td>\n",
       "      <td>0.00</td>\n",
       "      <td>0.00</td>\n",
       "      <td>0.00</td>\n",
       "      <td>0.00</td>\n",
       "      <td>0.00</td>\n",
       "      <td>0.00</td>\n",
       "      <td>0.00</td>\n",
       "      <td>0.00</td>\n",
       "      <td>0.00</td>\n",
       "      <td>0.00</td>\n",
       "      <td>0.00</td>\n",
       "      <td>0.00</td>\n",
       "      <td>0.00</td>\n",
       "      <td>0.00</td>\n",
       "      <td>0.00</td>\n",
       "      <td>39661.00</td>\n",
       "      <td>39717.00</td>\n",
       "      <td>0.00</td>\n",
       "      <td>0.00</td>\n",
       "      <td>0.00</td>\n",
       "      <td>0.00</td>\n",
       "      <td>0.00</td>\n",
       "      <td>0.00</td>\n",
       "      <td>0.00</td>\n",
       "      <td>0.00</td>\n",
       "      <td>0.00</td>\n",
       "      <td>0.00</td>\n",
       "      <td>0.00</td>\n",
       "      <td>0.00</td>\n",
       "      <td>0.00</td>\n",
       "      <td>0.00</td>\n",
       "      <td>0.00</td>\n",
       "      <td>0.00</td>\n",
       "      <td>0.00</td>\n",
       "      <td>0.00</td>\n",
       "      <td>0.00</td>\n",
       "      <td>0.00</td>\n",
       "      <td>0.00</td>\n",
       "      <td>0.00</td>\n",
       "      <td>0.00</td>\n",
       "      <td>0.00</td>\n",
       "      <td>0.00</td>\n",
       "      <td>39020.00</td>\n",
       "      <td>39678.00</td>\n",
       "      <td>0.00</td>\n",
       "      <td>0.00</td>\n",
       "      <td>0.00</td>\n",
       "      <td>0.00</td>\n",
       "    </tr>\n",
       "    <tr>\n",
       "      <th>mean</th>\n",
       "      <td>683131.91</td>\n",
       "      <td>850463.56</td>\n",
       "      <td>11219.44</td>\n",
       "      <td>10947.71</td>\n",
       "      <td>10397.45</td>\n",
       "      <td>324.56</td>\n",
       "      <td>68968.93</td>\n",
       "      <td>13.32</td>\n",
       "      <td>0.15</td>\n",
       "      <td>0.87</td>\n",
       "      <td>35.90</td>\n",
       "      <td>69.70</td>\n",
       "      <td>9.29</td>\n",
       "      <td>0.06</td>\n",
       "      <td>13382.53</td>\n",
       "      <td>22.09</td>\n",
       "      <td>51.23</td>\n",
       "      <td>50.99</td>\n",
       "      <td>12153.60</td>\n",
       "      <td>11567.15</td>\n",
       "      <td>9793.35</td>\n",
       "      <td>2263.66</td>\n",
       "      <td>1.36</td>\n",
       "      <td>95.22</td>\n",
       "      <td>12.41</td>\n",
       "      <td>2678.83</td>\n",
       "      <td>0.00</td>\n",
       "      <td>nan</td>\n",
       "      <td>1.00</td>\n",
       "      <td>nan</td>\n",
       "      <td>nan</td>\n",
       "      <td>nan</td>\n",
       "      <td>0.00</td>\n",
       "      <td>nan</td>\n",
       "      <td>nan</td>\n",
       "      <td>nan</td>\n",
       "      <td>nan</td>\n",
       "      <td>nan</td>\n",
       "      <td>nan</td>\n",
       "      <td>nan</td>\n",
       "      <td>nan</td>\n",
       "      <td>nan</td>\n",
       "      <td>nan</td>\n",
       "      <td>nan</td>\n",
       "      <td>nan</td>\n",
       "      <td>nan</td>\n",
       "      <td>nan</td>\n",
       "      <td>nan</td>\n",
       "      <td>nan</td>\n",
       "      <td>nan</td>\n",
       "      <td>nan</td>\n",
       "      <td>nan</td>\n",
       "      <td>nan</td>\n",
       "      <td>nan</td>\n",
       "      <td>0.00</td>\n",
       "      <td>0.00</td>\n",
       "      <td>nan</td>\n",
       "      <td>nan</td>\n",
       "      <td>nan</td>\n",
       "      <td>nan</td>\n",
       "      <td>nan</td>\n",
       "      <td>nan</td>\n",
       "      <td>nan</td>\n",
       "      <td>nan</td>\n",
       "      <td>nan</td>\n",
       "      <td>nan</td>\n",
       "      <td>nan</td>\n",
       "      <td>nan</td>\n",
       "      <td>nan</td>\n",
       "      <td>nan</td>\n",
       "      <td>nan</td>\n",
       "      <td>nan</td>\n",
       "      <td>nan</td>\n",
       "      <td>nan</td>\n",
       "      <td>nan</td>\n",
       "      <td>nan</td>\n",
       "      <td>nan</td>\n",
       "      <td>nan</td>\n",
       "      <td>nan</td>\n",
       "      <td>nan</td>\n",
       "      <td>nan</td>\n",
       "      <td>0.04</td>\n",
       "      <td>0.00</td>\n",
       "      <td>nan</td>\n",
       "      <td>nan</td>\n",
       "      <td>nan</td>\n",
       "      <td>nan</td>\n",
       "    </tr>\n",
       "    <tr>\n",
       "      <th>std</th>\n",
       "      <td>210694.13</td>\n",
       "      <td>265678.31</td>\n",
       "      <td>7456.67</td>\n",
       "      <td>7187.24</td>\n",
       "      <td>7128.45</td>\n",
       "      <td>208.87</td>\n",
       "      <td>63793.77</td>\n",
       "      <td>6.68</td>\n",
       "      <td>0.49</td>\n",
       "      <td>1.07</td>\n",
       "      <td>22.02</td>\n",
       "      <td>43.82</td>\n",
       "      <td>4.40</td>\n",
       "      <td>0.24</td>\n",
       "      <td>15885.02</td>\n",
       "      <td>11.40</td>\n",
       "      <td>375.17</td>\n",
       "      <td>373.82</td>\n",
       "      <td>9042.04</td>\n",
       "      <td>8942.67</td>\n",
       "      <td>7065.52</td>\n",
       "      <td>2608.11</td>\n",
       "      <td>7.29</td>\n",
       "      <td>688.74</td>\n",
       "      <td>148.67</td>\n",
       "      <td>4447.14</td>\n",
       "      <td>0.00</td>\n",
       "      <td>nan</td>\n",
       "      <td>0.00</td>\n",
       "      <td>nan</td>\n",
       "      <td>nan</td>\n",
       "      <td>nan</td>\n",
       "      <td>0.00</td>\n",
       "      <td>nan</td>\n",
       "      <td>nan</td>\n",
       "      <td>nan</td>\n",
       "      <td>nan</td>\n",
       "      <td>nan</td>\n",
       "      <td>nan</td>\n",
       "      <td>nan</td>\n",
       "      <td>nan</td>\n",
       "      <td>nan</td>\n",
       "      <td>nan</td>\n",
       "      <td>nan</td>\n",
       "      <td>nan</td>\n",
       "      <td>nan</td>\n",
       "      <td>nan</td>\n",
       "      <td>nan</td>\n",
       "      <td>nan</td>\n",
       "      <td>nan</td>\n",
       "      <td>nan</td>\n",
       "      <td>nan</td>\n",
       "      <td>nan</td>\n",
       "      <td>nan</td>\n",
       "      <td>0.00</td>\n",
       "      <td>0.00</td>\n",
       "      <td>nan</td>\n",
       "      <td>nan</td>\n",
       "      <td>nan</td>\n",
       "      <td>nan</td>\n",
       "      <td>nan</td>\n",
       "      <td>nan</td>\n",
       "      <td>nan</td>\n",
       "      <td>nan</td>\n",
       "      <td>nan</td>\n",
       "      <td>nan</td>\n",
       "      <td>nan</td>\n",
       "      <td>nan</td>\n",
       "      <td>nan</td>\n",
       "      <td>nan</td>\n",
       "      <td>nan</td>\n",
       "      <td>nan</td>\n",
       "      <td>nan</td>\n",
       "      <td>nan</td>\n",
       "      <td>nan</td>\n",
       "      <td>nan</td>\n",
       "      <td>nan</td>\n",
       "      <td>nan</td>\n",
       "      <td>nan</td>\n",
       "      <td>nan</td>\n",
       "      <td>nan</td>\n",
       "      <td>0.20</td>\n",
       "      <td>0.00</td>\n",
       "      <td>nan</td>\n",
       "      <td>nan</td>\n",
       "      <td>nan</td>\n",
       "      <td>nan</td>\n",
       "    </tr>\n",
       "    <tr>\n",
       "      <th>min</th>\n",
       "      <td>54734.00</td>\n",
       "      <td>70699.00</td>\n",
       "      <td>500.00</td>\n",
       "      <td>500.00</td>\n",
       "      <td>0.00</td>\n",
       "      <td>15.69</td>\n",
       "      <td>4000.00</td>\n",
       "      <td>0.00</td>\n",
       "      <td>0.00</td>\n",
       "      <td>0.00</td>\n",
       "      <td>0.00</td>\n",
       "      <td>0.00</td>\n",
       "      <td>2.00</td>\n",
       "      <td>0.00</td>\n",
       "      <td>0.00</td>\n",
       "      <td>2.00</td>\n",
       "      <td>0.00</td>\n",
       "      <td>0.00</td>\n",
       "      <td>0.00</td>\n",
       "      <td>0.00</td>\n",
       "      <td>0.00</td>\n",
       "      <td>0.00</td>\n",
       "      <td>0.00</td>\n",
       "      <td>0.00</td>\n",
       "      <td>0.00</td>\n",
       "      <td>0.00</td>\n",
       "      <td>0.00</td>\n",
       "      <td>nan</td>\n",
       "      <td>1.00</td>\n",
       "      <td>nan</td>\n",
       "      <td>nan</td>\n",
       "      <td>nan</td>\n",
       "      <td>0.00</td>\n",
       "      <td>nan</td>\n",
       "      <td>nan</td>\n",
       "      <td>nan</td>\n",
       "      <td>nan</td>\n",
       "      <td>nan</td>\n",
       "      <td>nan</td>\n",
       "      <td>nan</td>\n",
       "      <td>nan</td>\n",
       "      <td>nan</td>\n",
       "      <td>nan</td>\n",
       "      <td>nan</td>\n",
       "      <td>nan</td>\n",
       "      <td>nan</td>\n",
       "      <td>nan</td>\n",
       "      <td>nan</td>\n",
       "      <td>nan</td>\n",
       "      <td>nan</td>\n",
       "      <td>nan</td>\n",
       "      <td>nan</td>\n",
       "      <td>nan</td>\n",
       "      <td>nan</td>\n",
       "      <td>0.00</td>\n",
       "      <td>0.00</td>\n",
       "      <td>nan</td>\n",
       "      <td>nan</td>\n",
       "      <td>nan</td>\n",
       "      <td>nan</td>\n",
       "      <td>nan</td>\n",
       "      <td>nan</td>\n",
       "      <td>nan</td>\n",
       "      <td>nan</td>\n",
       "      <td>nan</td>\n",
       "      <td>nan</td>\n",
       "      <td>nan</td>\n",
       "      <td>nan</td>\n",
       "      <td>nan</td>\n",
       "      <td>nan</td>\n",
       "      <td>nan</td>\n",
       "      <td>nan</td>\n",
       "      <td>nan</td>\n",
       "      <td>nan</td>\n",
       "      <td>nan</td>\n",
       "      <td>nan</td>\n",
       "      <td>nan</td>\n",
       "      <td>nan</td>\n",
       "      <td>nan</td>\n",
       "      <td>nan</td>\n",
       "      <td>nan</td>\n",
       "      <td>0.00</td>\n",
       "      <td>0.00</td>\n",
       "      <td>nan</td>\n",
       "      <td>nan</td>\n",
       "      <td>nan</td>\n",
       "      <td>nan</td>\n",
       "    </tr>\n",
       "    <tr>\n",
       "      <th>25%</th>\n",
       "      <td>516221.00</td>\n",
       "      <td>666780.00</td>\n",
       "      <td>5500.00</td>\n",
       "      <td>5400.00</td>\n",
       "      <td>5000.00</td>\n",
       "      <td>167.02</td>\n",
       "      <td>40404.00</td>\n",
       "      <td>8.17</td>\n",
       "      <td>0.00</td>\n",
       "      <td>0.00</td>\n",
       "      <td>18.00</td>\n",
       "      <td>22.00</td>\n",
       "      <td>6.00</td>\n",
       "      <td>0.00</td>\n",
       "      <td>3703.00</td>\n",
       "      <td>13.00</td>\n",
       "      <td>0.00</td>\n",
       "      <td>0.00</td>\n",
       "      <td>5576.93</td>\n",
       "      <td>5112.31</td>\n",
       "      <td>4600.00</td>\n",
       "      <td>662.18</td>\n",
       "      <td>0.00</td>\n",
       "      <td>0.00</td>\n",
       "      <td>0.00</td>\n",
       "      <td>218.68</td>\n",
       "      <td>0.00</td>\n",
       "      <td>nan</td>\n",
       "      <td>1.00</td>\n",
       "      <td>nan</td>\n",
       "      <td>nan</td>\n",
       "      <td>nan</td>\n",
       "      <td>0.00</td>\n",
       "      <td>nan</td>\n",
       "      <td>nan</td>\n",
       "      <td>nan</td>\n",
       "      <td>nan</td>\n",
       "      <td>nan</td>\n",
       "      <td>nan</td>\n",
       "      <td>nan</td>\n",
       "      <td>nan</td>\n",
       "      <td>nan</td>\n",
       "      <td>nan</td>\n",
       "      <td>nan</td>\n",
       "      <td>nan</td>\n",
       "      <td>nan</td>\n",
       "      <td>nan</td>\n",
       "      <td>nan</td>\n",
       "      <td>nan</td>\n",
       "      <td>nan</td>\n",
       "      <td>nan</td>\n",
       "      <td>nan</td>\n",
       "      <td>nan</td>\n",
       "      <td>nan</td>\n",
       "      <td>0.00</td>\n",
       "      <td>0.00</td>\n",
       "      <td>nan</td>\n",
       "      <td>nan</td>\n",
       "      <td>nan</td>\n",
       "      <td>nan</td>\n",
       "      <td>nan</td>\n",
       "      <td>nan</td>\n",
       "      <td>nan</td>\n",
       "      <td>nan</td>\n",
       "      <td>nan</td>\n",
       "      <td>nan</td>\n",
       "      <td>nan</td>\n",
       "      <td>nan</td>\n",
       "      <td>nan</td>\n",
       "      <td>nan</td>\n",
       "      <td>nan</td>\n",
       "      <td>nan</td>\n",
       "      <td>nan</td>\n",
       "      <td>nan</td>\n",
       "      <td>nan</td>\n",
       "      <td>nan</td>\n",
       "      <td>nan</td>\n",
       "      <td>nan</td>\n",
       "      <td>nan</td>\n",
       "      <td>nan</td>\n",
       "      <td>nan</td>\n",
       "      <td>0.00</td>\n",
       "      <td>0.00</td>\n",
       "      <td>nan</td>\n",
       "      <td>nan</td>\n",
       "      <td>nan</td>\n",
       "      <td>nan</td>\n",
       "    </tr>\n",
       "    <tr>\n",
       "      <th>50%</th>\n",
       "      <td>665665.00</td>\n",
       "      <td>850812.00</td>\n",
       "      <td>10000.00</td>\n",
       "      <td>9600.00</td>\n",
       "      <td>8975.00</td>\n",
       "      <td>280.22</td>\n",
       "      <td>59000.00</td>\n",
       "      <td>13.40</td>\n",
       "      <td>0.00</td>\n",
       "      <td>1.00</td>\n",
       "      <td>34.00</td>\n",
       "      <td>90.00</td>\n",
       "      <td>9.00</td>\n",
       "      <td>0.00</td>\n",
       "      <td>8850.00</td>\n",
       "      <td>20.00</td>\n",
       "      <td>0.00</td>\n",
       "      <td>0.00</td>\n",
       "      <td>9899.64</td>\n",
       "      <td>9287.15</td>\n",
       "      <td>8000.00</td>\n",
       "      <td>1348.91</td>\n",
       "      <td>0.00</td>\n",
       "      <td>0.00</td>\n",
       "      <td>0.00</td>\n",
       "      <td>546.14</td>\n",
       "      <td>0.00</td>\n",
       "      <td>nan</td>\n",
       "      <td>1.00</td>\n",
       "      <td>nan</td>\n",
       "      <td>nan</td>\n",
       "      <td>nan</td>\n",
       "      <td>0.00</td>\n",
       "      <td>nan</td>\n",
       "      <td>nan</td>\n",
       "      <td>nan</td>\n",
       "      <td>nan</td>\n",
       "      <td>nan</td>\n",
       "      <td>nan</td>\n",
       "      <td>nan</td>\n",
       "      <td>nan</td>\n",
       "      <td>nan</td>\n",
       "      <td>nan</td>\n",
       "      <td>nan</td>\n",
       "      <td>nan</td>\n",
       "      <td>nan</td>\n",
       "      <td>nan</td>\n",
       "      <td>nan</td>\n",
       "      <td>nan</td>\n",
       "      <td>nan</td>\n",
       "      <td>nan</td>\n",
       "      <td>nan</td>\n",
       "      <td>nan</td>\n",
       "      <td>nan</td>\n",
       "      <td>0.00</td>\n",
       "      <td>0.00</td>\n",
       "      <td>nan</td>\n",
       "      <td>nan</td>\n",
       "      <td>nan</td>\n",
       "      <td>nan</td>\n",
       "      <td>nan</td>\n",
       "      <td>nan</td>\n",
       "      <td>nan</td>\n",
       "      <td>nan</td>\n",
       "      <td>nan</td>\n",
       "      <td>nan</td>\n",
       "      <td>nan</td>\n",
       "      <td>nan</td>\n",
       "      <td>nan</td>\n",
       "      <td>nan</td>\n",
       "      <td>nan</td>\n",
       "      <td>nan</td>\n",
       "      <td>nan</td>\n",
       "      <td>nan</td>\n",
       "      <td>nan</td>\n",
       "      <td>nan</td>\n",
       "      <td>nan</td>\n",
       "      <td>nan</td>\n",
       "      <td>nan</td>\n",
       "      <td>nan</td>\n",
       "      <td>nan</td>\n",
       "      <td>0.00</td>\n",
       "      <td>0.00</td>\n",
       "      <td>nan</td>\n",
       "      <td>nan</td>\n",
       "      <td>nan</td>\n",
       "      <td>nan</td>\n",
       "    </tr>\n",
       "    <tr>\n",
       "      <th>75%</th>\n",
       "      <td>837755.00</td>\n",
       "      <td>1047339.00</td>\n",
       "      <td>15000.00</td>\n",
       "      <td>15000.00</td>\n",
       "      <td>14400.00</td>\n",
       "      <td>430.78</td>\n",
       "      <td>82300.00</td>\n",
       "      <td>18.60</td>\n",
       "      <td>0.00</td>\n",
       "      <td>1.00</td>\n",
       "      <td>52.00</td>\n",
       "      <td>104.00</td>\n",
       "      <td>12.00</td>\n",
       "      <td>0.00</td>\n",
       "      <td>17058.00</td>\n",
       "      <td>29.00</td>\n",
       "      <td>0.00</td>\n",
       "      <td>0.00</td>\n",
       "      <td>16534.43</td>\n",
       "      <td>15798.81</td>\n",
       "      <td>13653.26</td>\n",
       "      <td>2833.40</td>\n",
       "      <td>0.00</td>\n",
       "      <td>0.00</td>\n",
       "      <td>0.00</td>\n",
       "      <td>3293.16</td>\n",
       "      <td>0.00</td>\n",
       "      <td>nan</td>\n",
       "      <td>1.00</td>\n",
       "      <td>nan</td>\n",
       "      <td>nan</td>\n",
       "      <td>nan</td>\n",
       "      <td>0.00</td>\n",
       "      <td>nan</td>\n",
       "      <td>nan</td>\n",
       "      <td>nan</td>\n",
       "      <td>nan</td>\n",
       "      <td>nan</td>\n",
       "      <td>nan</td>\n",
       "      <td>nan</td>\n",
       "      <td>nan</td>\n",
       "      <td>nan</td>\n",
       "      <td>nan</td>\n",
       "      <td>nan</td>\n",
       "      <td>nan</td>\n",
       "      <td>nan</td>\n",
       "      <td>nan</td>\n",
       "      <td>nan</td>\n",
       "      <td>nan</td>\n",
       "      <td>nan</td>\n",
       "      <td>nan</td>\n",
       "      <td>nan</td>\n",
       "      <td>nan</td>\n",
       "      <td>nan</td>\n",
       "      <td>0.00</td>\n",
       "      <td>0.00</td>\n",
       "      <td>nan</td>\n",
       "      <td>nan</td>\n",
       "      <td>nan</td>\n",
       "      <td>nan</td>\n",
       "      <td>nan</td>\n",
       "      <td>nan</td>\n",
       "      <td>nan</td>\n",
       "      <td>nan</td>\n",
       "      <td>nan</td>\n",
       "      <td>nan</td>\n",
       "      <td>nan</td>\n",
       "      <td>nan</td>\n",
       "      <td>nan</td>\n",
       "      <td>nan</td>\n",
       "      <td>nan</td>\n",
       "      <td>nan</td>\n",
       "      <td>nan</td>\n",
       "      <td>nan</td>\n",
       "      <td>nan</td>\n",
       "      <td>nan</td>\n",
       "      <td>nan</td>\n",
       "      <td>nan</td>\n",
       "      <td>nan</td>\n",
       "      <td>nan</td>\n",
       "      <td>nan</td>\n",
       "      <td>0.00</td>\n",
       "      <td>0.00</td>\n",
       "      <td>nan</td>\n",
       "      <td>nan</td>\n",
       "      <td>nan</td>\n",
       "      <td>nan</td>\n",
       "    </tr>\n",
       "    <tr>\n",
       "      <th>max</th>\n",
       "      <td>1077501.00</td>\n",
       "      <td>1314167.00</td>\n",
       "      <td>35000.00</td>\n",
       "      <td>35000.00</td>\n",
       "      <td>35000.00</td>\n",
       "      <td>1305.19</td>\n",
       "      <td>6000000.00</td>\n",
       "      <td>29.99</td>\n",
       "      <td>11.00</td>\n",
       "      <td>8.00</td>\n",
       "      <td>120.00</td>\n",
       "      <td>129.00</td>\n",
       "      <td>44.00</td>\n",
       "      <td>4.00</td>\n",
       "      <td>149588.00</td>\n",
       "      <td>90.00</td>\n",
       "      <td>6311.47</td>\n",
       "      <td>6307.37</td>\n",
       "      <td>58563.68</td>\n",
       "      <td>58563.68</td>\n",
       "      <td>35000.02</td>\n",
       "      <td>23563.68</td>\n",
       "      <td>180.20</td>\n",
       "      <td>29623.35</td>\n",
       "      <td>7002.19</td>\n",
       "      <td>36115.20</td>\n",
       "      <td>0.00</td>\n",
       "      <td>nan</td>\n",
       "      <td>1.00</td>\n",
       "      <td>nan</td>\n",
       "      <td>nan</td>\n",
       "      <td>nan</td>\n",
       "      <td>0.00</td>\n",
       "      <td>nan</td>\n",
       "      <td>nan</td>\n",
       "      <td>nan</td>\n",
       "      <td>nan</td>\n",
       "      <td>nan</td>\n",
       "      <td>nan</td>\n",
       "      <td>nan</td>\n",
       "      <td>nan</td>\n",
       "      <td>nan</td>\n",
       "      <td>nan</td>\n",
       "      <td>nan</td>\n",
       "      <td>nan</td>\n",
       "      <td>nan</td>\n",
       "      <td>nan</td>\n",
       "      <td>nan</td>\n",
       "      <td>nan</td>\n",
       "      <td>nan</td>\n",
       "      <td>nan</td>\n",
       "      <td>nan</td>\n",
       "      <td>nan</td>\n",
       "      <td>nan</td>\n",
       "      <td>0.00</td>\n",
       "      <td>0.00</td>\n",
       "      <td>nan</td>\n",
       "      <td>nan</td>\n",
       "      <td>nan</td>\n",
       "      <td>nan</td>\n",
       "      <td>nan</td>\n",
       "      <td>nan</td>\n",
       "      <td>nan</td>\n",
       "      <td>nan</td>\n",
       "      <td>nan</td>\n",
       "      <td>nan</td>\n",
       "      <td>nan</td>\n",
       "      <td>nan</td>\n",
       "      <td>nan</td>\n",
       "      <td>nan</td>\n",
       "      <td>nan</td>\n",
       "      <td>nan</td>\n",
       "      <td>nan</td>\n",
       "      <td>nan</td>\n",
       "      <td>nan</td>\n",
       "      <td>nan</td>\n",
       "      <td>nan</td>\n",
       "      <td>nan</td>\n",
       "      <td>nan</td>\n",
       "      <td>nan</td>\n",
       "      <td>nan</td>\n",
       "      <td>2.00</td>\n",
       "      <td>0.00</td>\n",
       "      <td>nan</td>\n",
       "      <td>nan</td>\n",
       "      <td>nan</td>\n",
       "      <td>nan</td>\n",
       "    </tr>\n",
       "  </tbody>\n",
       "</table>\n",
       "</div>"
      ],
      "text/plain": [
       "              id  member_id  loan_amnt  funded_amnt  funded_amnt_inv  \\\n",
       "count   39717.00   39717.00   39717.00     39717.00         39717.00   \n",
       "mean   683131.91  850463.56   11219.44     10947.71         10397.45   \n",
       "std    210694.13  265678.31    7456.67      7187.24          7128.45   \n",
       "min     54734.00   70699.00     500.00       500.00             0.00   \n",
       "25%    516221.00  666780.00    5500.00      5400.00          5000.00   \n",
       "50%    665665.00  850812.00   10000.00      9600.00          8975.00   \n",
       "75%    837755.00 1047339.00   15000.00     15000.00         14400.00   \n",
       "max   1077501.00 1314167.00   35000.00     35000.00         35000.00   \n",
       "\n",
       "       installment  annual_inc      dti  delinq_2yrs  inq_last_6mths  \\\n",
       "count     39717.00    39717.00 39717.00     39717.00        39717.00   \n",
       "mean        324.56    68968.93    13.32         0.15            0.87   \n",
       "std         208.87    63793.77     6.68         0.49            1.07   \n",
       "min          15.69     4000.00     0.00         0.00            0.00   \n",
       "25%         167.02    40404.00     8.17         0.00            0.00   \n",
       "50%         280.22    59000.00    13.40         0.00            1.00   \n",
       "75%         430.78    82300.00    18.60         0.00            1.00   \n",
       "max        1305.19  6000000.00    29.99        11.00            8.00   \n",
       "\n",
       "       mths_since_last_delinq  mths_since_last_record  open_acc  pub_rec  \\\n",
       "count                14035.00                 2786.00  39717.00 39717.00   \n",
       "mean                    35.90                   69.70      9.29     0.06   \n",
       "std                     22.02                   43.82      4.40     0.24   \n",
       "min                      0.00                    0.00      2.00     0.00   \n",
       "25%                     18.00                   22.00      6.00     0.00   \n",
       "50%                     34.00                   90.00      9.00     0.00   \n",
       "75%                     52.00                  104.00     12.00     0.00   \n",
       "max                    120.00                  129.00     44.00     4.00   \n",
       "\n",
       "       revol_bal  total_acc  out_prncp  out_prncp_inv  total_pymnt  \\\n",
       "count   39717.00   39717.00   39717.00       39717.00     39717.00   \n",
       "mean    13382.53      22.09      51.23          50.99     12153.60   \n",
       "std     15885.02      11.40     375.17         373.82      9042.04   \n",
       "min         0.00       2.00       0.00           0.00         0.00   \n",
       "25%      3703.00      13.00       0.00           0.00      5576.93   \n",
       "50%      8850.00      20.00       0.00           0.00      9899.64   \n",
       "75%     17058.00      29.00       0.00           0.00     16534.43   \n",
       "max    149588.00      90.00    6311.47        6307.37     58563.68   \n",
       "\n",
       "       total_pymnt_inv  total_rec_prncp  total_rec_int  total_rec_late_fee  \\\n",
       "count         39717.00         39717.00       39717.00            39717.00   \n",
       "mean          11567.15          9793.35        2263.66                1.36   \n",
       "std            8942.67          7065.52        2608.11                7.29   \n",
       "min               0.00             0.00           0.00                0.00   \n",
       "25%            5112.31          4600.00         662.18                0.00   \n",
       "50%            9287.15          8000.00        1348.91                0.00   \n",
       "75%           15798.81         13653.26        2833.40                0.00   \n",
       "max           58563.68         35000.02       23563.68              180.20   \n",
       "\n",
       "       recoveries  collection_recovery_fee  last_pymnt_amnt  \\\n",
       "count    39717.00                 39717.00         39717.00   \n",
       "mean        95.22                    12.41          2678.83   \n",
       "std        688.74                   148.67          4447.14   \n",
       "min          0.00                     0.00             0.00   \n",
       "25%          0.00                     0.00           218.68   \n",
       "50%          0.00                     0.00           546.14   \n",
       "75%          0.00                     0.00          3293.16   \n",
       "max      29623.35                  7002.19         36115.20   \n",
       "\n",
       "       collections_12_mths_ex_med  mths_since_last_major_derog  policy_code  \\\n",
       "count                    39661.00                         0.00     39717.00   \n",
       "mean                         0.00                          nan         1.00   \n",
       "std                          0.00                          nan         0.00   \n",
       "min                          0.00                          nan         1.00   \n",
       "25%                          0.00                          nan         1.00   \n",
       "50%                          0.00                          nan         1.00   \n",
       "75%                          0.00                          nan         1.00   \n",
       "max                          0.00                          nan         1.00   \n",
       "\n",
       "       annual_inc_joint  dti_joint  verification_status_joint  acc_now_delinq  \\\n",
       "count              0.00       0.00                       0.00        39717.00   \n",
       "mean                nan        nan                        nan            0.00   \n",
       "std                 nan        nan                        nan            0.00   \n",
       "min                 nan        nan                        nan            0.00   \n",
       "25%                 nan        nan                        nan            0.00   \n",
       "50%                 nan        nan                        nan            0.00   \n",
       "75%                 nan        nan                        nan            0.00   \n",
       "max                 nan        nan                        nan            0.00   \n",
       "\n",
       "       tot_coll_amt  tot_cur_bal  open_acc_6m  open_il_6m  open_il_12m  \\\n",
       "count          0.00         0.00         0.00        0.00         0.00   \n",
       "mean            nan          nan          nan         nan          nan   \n",
       "std             nan          nan          nan         nan          nan   \n",
       "min             nan          nan          nan         nan          nan   \n",
       "25%             nan          nan          nan         nan          nan   \n",
       "50%             nan          nan          nan         nan          nan   \n",
       "75%             nan          nan          nan         nan          nan   \n",
       "max             nan          nan          nan         nan          nan   \n",
       "\n",
       "       open_il_24m  mths_since_rcnt_il  total_bal_il  il_util  open_rv_12m  \\\n",
       "count         0.00                0.00          0.00     0.00         0.00   \n",
       "mean           nan                 nan           nan      nan          nan   \n",
       "std            nan                 nan           nan      nan          nan   \n",
       "min            nan                 nan           nan      nan          nan   \n",
       "25%            nan                 nan           nan      nan          nan   \n",
       "50%            nan                 nan           nan      nan          nan   \n",
       "75%            nan                 nan           nan      nan          nan   \n",
       "max            nan                 nan           nan      nan          nan   \n",
       "\n",
       "       open_rv_24m  max_bal_bc  all_util  total_rev_hi_lim  inq_fi  \\\n",
       "count         0.00        0.00      0.00              0.00    0.00   \n",
       "mean           nan         nan       nan               nan     nan   \n",
       "std            nan         nan       nan               nan     nan   \n",
       "min            nan         nan       nan               nan     nan   \n",
       "25%            nan         nan       nan               nan     nan   \n",
       "50%            nan         nan       nan               nan     nan   \n",
       "75%            nan         nan       nan               nan     nan   \n",
       "max            nan         nan       nan               nan     nan   \n",
       "\n",
       "       total_cu_tl  inq_last_12m  acc_open_past_24mths  avg_cur_bal  \\\n",
       "count         0.00          0.00                  0.00         0.00   \n",
       "mean           nan           nan                   nan          nan   \n",
       "std            nan           nan                   nan          nan   \n",
       "min            nan           nan                   nan          nan   \n",
       "25%            nan           nan                   nan          nan   \n",
       "50%            nan           nan                   nan          nan   \n",
       "75%            nan           nan                   nan          nan   \n",
       "max            nan           nan                   nan          nan   \n",
       "\n",
       "       bc_open_to_buy  bc_util  chargeoff_within_12_mths  delinq_amnt  \\\n",
       "count            0.00     0.00                  39661.00     39717.00   \n",
       "mean              nan      nan                      0.00         0.00   \n",
       "std               nan      nan                      0.00         0.00   \n",
       "min               nan      nan                      0.00         0.00   \n",
       "25%               nan      nan                      0.00         0.00   \n",
       "50%               nan      nan                      0.00         0.00   \n",
       "75%               nan      nan                      0.00         0.00   \n",
       "max               nan      nan                      0.00         0.00   \n",
       "\n",
       "       mo_sin_old_il_acct  mo_sin_old_rev_tl_op  mo_sin_rcnt_rev_tl_op  \\\n",
       "count                0.00                  0.00                   0.00   \n",
       "mean                  nan                   nan                    nan   \n",
       "std                   nan                   nan                    nan   \n",
       "min                   nan                   nan                    nan   \n",
       "25%                   nan                   nan                    nan   \n",
       "50%                   nan                   nan                    nan   \n",
       "75%                   nan                   nan                    nan   \n",
       "max                   nan                   nan                    nan   \n",
       "\n",
       "       mo_sin_rcnt_tl  mort_acc  mths_since_recent_bc  \\\n",
       "count            0.00      0.00                  0.00   \n",
       "mean              nan       nan                   nan   \n",
       "std               nan       nan                   nan   \n",
       "min               nan       nan                   nan   \n",
       "25%               nan       nan                   nan   \n",
       "50%               nan       nan                   nan   \n",
       "75%               nan       nan                   nan   \n",
       "max               nan       nan                   nan   \n",
       "\n",
       "       mths_since_recent_bc_dlq  mths_since_recent_inq  \\\n",
       "count                      0.00                   0.00   \n",
       "mean                        nan                    nan   \n",
       "std                         nan                    nan   \n",
       "min                         nan                    nan   \n",
       "25%                         nan                    nan   \n",
       "50%                         nan                    nan   \n",
       "75%                         nan                    nan   \n",
       "max                         nan                    nan   \n",
       "\n",
       "       mths_since_recent_revol_delinq  num_accts_ever_120_pd  num_actv_bc_tl  \\\n",
       "count                            0.00                   0.00            0.00   \n",
       "mean                              nan                    nan             nan   \n",
       "std                               nan                    nan             nan   \n",
       "min                               nan                    nan             nan   \n",
       "25%                               nan                    nan             nan   \n",
       "50%                               nan                    nan             nan   \n",
       "75%                               nan                    nan             nan   \n",
       "max                               nan                    nan             nan   \n",
       "\n",
       "       num_actv_rev_tl  num_bc_sats  num_bc_tl  num_il_tl  num_op_rev_tl  \\\n",
       "count             0.00         0.00       0.00       0.00           0.00   \n",
       "mean               nan          nan        nan        nan            nan   \n",
       "std                nan          nan        nan        nan            nan   \n",
       "min                nan          nan        nan        nan            nan   \n",
       "25%                nan          nan        nan        nan            nan   \n",
       "50%                nan          nan        nan        nan            nan   \n",
       "75%                nan          nan        nan        nan            nan   \n",
       "max                nan          nan        nan        nan            nan   \n",
       "\n",
       "       num_rev_accts  num_rev_tl_bal_gt_0  num_sats  num_tl_120dpd_2m  \\\n",
       "count           0.00                 0.00      0.00              0.00   \n",
       "mean             nan                  nan       nan               nan   \n",
       "std              nan                  nan       nan               nan   \n",
       "min              nan                  nan       nan               nan   \n",
       "25%              nan                  nan       nan               nan   \n",
       "50%              nan                  nan       nan               nan   \n",
       "75%              nan                  nan       nan               nan   \n",
       "max              nan                  nan       nan               nan   \n",
       "\n",
       "       num_tl_30dpd  num_tl_90g_dpd_24m  num_tl_op_past_12m  pct_tl_nvr_dlq  \\\n",
       "count          0.00                0.00                0.00            0.00   \n",
       "mean            nan                 nan                 nan             nan   \n",
       "std             nan                 nan                 nan             nan   \n",
       "min             nan                 nan                 nan             nan   \n",
       "25%             nan                 nan                 nan             nan   \n",
       "50%             nan                 nan                 nan             nan   \n",
       "75%             nan                 nan                 nan             nan   \n",
       "max             nan                 nan                 nan             nan   \n",
       "\n",
       "       percent_bc_gt_75  pub_rec_bankruptcies  tax_liens  tot_hi_cred_lim  \\\n",
       "count              0.00              39020.00   39678.00             0.00   \n",
       "mean                nan                  0.04       0.00              nan   \n",
       "std                 nan                  0.20       0.00              nan   \n",
       "min                 nan                  0.00       0.00              nan   \n",
       "25%                 nan                  0.00       0.00              nan   \n",
       "50%                 nan                  0.00       0.00              nan   \n",
       "75%                 nan                  0.00       0.00              nan   \n",
       "max                 nan                  2.00       0.00              nan   \n",
       "\n",
       "       total_bal_ex_mort  total_bc_limit  total_il_high_credit_limit  \n",
       "count               0.00            0.00                        0.00  \n",
       "mean                 nan             nan                         nan  \n",
       "std                  nan             nan                         nan  \n",
       "min                  nan             nan                         nan  \n",
       "25%                  nan             nan                         nan  \n",
       "50%                  nan             nan                         nan  \n",
       "75%                  nan             nan                         nan  \n",
       "max                  nan             nan                         nan  "
      ]
     },
     "execution_count": 707,
     "metadata": {},
     "output_type": "execute_result"
    }
   ],
   "source": [
    "loan_df.describe()"
   ]
  },
  {
   "cell_type": "markdown",
   "metadata": {},
   "source": [
    "**We will analyse only closed loans and drop all rows where the loan status is 'Current'.**"
   ]
  },
  {
   "cell_type": "code",
   "execution_count": 708,
   "metadata": {},
   "outputs": [
    {
     "data": {
      "text/plain": [
       "Fully Paid     32950\n",
       "Charged Off     5627\n",
       "Current         1140\n",
       "Name: loan_status, dtype: int64"
      ]
     },
     "execution_count": 708,
     "metadata": {},
     "output_type": "execute_result"
    }
   ],
   "source": [
    "loan_df.loan_status.value_counts()"
   ]
  },
  {
   "cell_type": "code",
   "execution_count": 709,
   "metadata": {},
   "outputs": [],
   "source": [
    "loan_df.loan_status = loan_df.loan_status.apply(lambda x : x.strip().upper())"
   ]
  },
  {
   "cell_type": "code",
   "execution_count": 710,
   "metadata": {},
   "outputs": [],
   "source": [
    "# Drop loans which are active i.e there loan_status is CURRENT \n",
    "loan_df = loan_df[loan_df.loan_status != 'CURRENT']"
   ]
  },
  {
   "cell_type": "markdown",
   "metadata": {},
   "source": [
    "### Drop columns with all NA values"
   ]
  },
  {
   "cell_type": "code",
   "execution_count": 711,
   "metadata": {},
   "outputs": [],
   "source": [
    "loan_df.dropna(axis=1, inplace=True, how='all')\n"
   ]
  },
  {
   "cell_type": "code",
   "execution_count": 712,
   "metadata": {},
   "outputs": [],
   "source": [
    "# Missing percentage\n",
    "missing_percent = 100*round(loan_df.isnull().sum()/len(loan_df.index),2)"
   ]
  },
  {
   "cell_type": "code",
   "execution_count": 713,
   "metadata": {},
   "outputs": [
    {
     "data": {
      "text/plain": [
       "emp_title                 6.00\n",
       "emp_length                3.00\n",
       "desc                     32.00\n",
       "mths_since_last_delinq   65.00\n",
       "mths_since_last_record   93.00\n",
       "pub_rec_bankruptcies      2.00\n",
       "dtype: float64"
      ]
     },
     "execution_count": 713,
     "metadata": {},
     "output_type": "execute_result"
    }
   ],
   "source": [
    "missing_percent[missing_percent !=0]"
   ]
  },
  {
   "cell_type": "code",
   "execution_count": 714,
   "metadata": {},
   "outputs": [],
   "source": [
    "#Dropping further columns with more than 50% missing values like mths_since_last_delinq and mths_since_last_record\n",
    "loan_df = loan_df.drop(['mths_since_last_record','mths_since_last_delinq'],axis=1)"
   ]
  },
  {
   "cell_type": "code",
   "execution_count": 715,
   "metadata": {},
   "outputs": [
    {
     "data": {
      "text/plain": [
       "(38577, 54)"
      ]
     },
     "execution_count": 715,
     "metadata": {},
     "output_type": "execute_result"
    }
   ],
   "source": [
    "loan_df.shape"
   ]
  },
  {
   "cell_type": "code",
   "execution_count": 716,
   "metadata": {},
   "outputs": [],
   "source": [
    "# Missing percentage\n",
    "missing_percent = 100*round(loan_df.isnull().sum()/len(loan_df.index),2)"
   ]
  },
  {
   "cell_type": "code",
   "execution_count": 717,
   "metadata": {},
   "outputs": [
    {
     "data": {
      "text/plain": [
       "emp_title               6.00\n",
       "emp_length              3.00\n",
       "desc                   32.00\n",
       "pub_rec_bankruptcies    2.00\n",
       "dtype: float64"
      ]
     },
     "execution_count": 717,
     "metadata": {},
     "output_type": "execute_result"
    }
   ],
   "source": [
    "missing_percent[missing_percent !=0]"
   ]
  },
  {
   "cell_type": "markdown",
   "metadata": {},
   "source": [
    "**1. Drop some other columns with ignorable info like desc**\n",
    "\n",
    "**2. Columns with unique identifier member_id','url' and'id'** \n",
    "\n",
    "**3. Remove rows where emp_title, pub_rec_bankruptcies,  emp_length have null values as the percentage of it is very low**"
   ]
  },
  {
   "cell_type": "code",
   "execution_count": 718,
   "metadata": {},
   "outputs": [],
   "source": [
    "loan_df = loan_df.drop(['desc','url','member_id','id'],axis=1)"
   ]
  },
  {
   "cell_type": "code",
   "execution_count": 719,
   "metadata": {},
   "outputs": [],
   "source": [
    "loan_df.dropna(inplace=True, how='any')"
   ]
  },
  {
   "cell_type": "code",
   "execution_count": 720,
   "metadata": {},
   "outputs": [],
   "source": [
    "missing_percent = 100*round(loan_df.isnull().sum()/len(loan_df.index),2)"
   ]
  },
  {
   "cell_type": "code",
   "execution_count": 721,
   "metadata": {},
   "outputs": [
    {
     "data": {
      "text/plain": [
       "Series([], dtype: float64)"
      ]
     },
     "execution_count": 721,
     "metadata": {},
     "output_type": "execute_result"
    }
   ],
   "source": [
    "missing_percent[missing_percent !=0]"
   ]
  },
  {
   "cell_type": "markdown",
   "metadata": {},
   "source": [
    "## **Now we don't have any missing values**"
   ]
  },
  {
   "cell_type": "code",
   "execution_count": 722,
   "metadata": {},
   "outputs": [
    {
     "name": "stdout",
     "output_type": "stream",
     "text": [
      "<class 'pandas.core.frame.DataFrame'>\n",
      "Int64Index: 35365 entries, 1 to 39623\n",
      "Data columns (total 50 columns):\n",
      " #   Column                      Non-Null Count  Dtype  \n",
      "---  ------                      --------------  -----  \n",
      " 0   loan_amnt                   35365 non-null  int64  \n",
      " 1   funded_amnt                 35365 non-null  int64  \n",
      " 2   funded_amnt_inv             35365 non-null  float64\n",
      " 3   term                        35365 non-null  object \n",
      " 4   int_rate                    35365 non-null  object \n",
      " 5   installment                 35365 non-null  float64\n",
      " 6   grade                       35365 non-null  object \n",
      " 7   sub_grade                   35365 non-null  object \n",
      " 8   emp_title                   35365 non-null  object \n",
      " 9   emp_length                  35365 non-null  object \n",
      " 10  home_ownership              35365 non-null  object \n",
      " 11  annual_inc                  35365 non-null  float64\n",
      " 12  verification_status         35365 non-null  object \n",
      " 13  issue_d                     35365 non-null  object \n",
      " 14  loan_status                 35365 non-null  object \n",
      " 15  pymnt_plan                  35365 non-null  object \n",
      " 16  purpose                     35365 non-null  object \n",
      " 17  title                       35365 non-null  object \n",
      " 18  zip_code                    35365 non-null  object \n",
      " 19  addr_state                  35365 non-null  object \n",
      " 20  dti                         35365 non-null  float64\n",
      " 21  delinq_2yrs                 35365 non-null  int64  \n",
      " 22  earliest_cr_line            35365 non-null  object \n",
      " 23  inq_last_6mths              35365 non-null  int64  \n",
      " 24  open_acc                    35365 non-null  int64  \n",
      " 25  pub_rec                     35365 non-null  int64  \n",
      " 26  revol_bal                   35365 non-null  int64  \n",
      " 27  revol_util                  35365 non-null  object \n",
      " 28  total_acc                   35365 non-null  int64  \n",
      " 29  initial_list_status         35365 non-null  object \n",
      " 30  out_prncp                   35365 non-null  float64\n",
      " 31  out_prncp_inv               35365 non-null  float64\n",
      " 32  total_pymnt                 35365 non-null  float64\n",
      " 33  total_pymnt_inv             35365 non-null  float64\n",
      " 34  total_rec_prncp             35365 non-null  float64\n",
      " 35  total_rec_int               35365 non-null  float64\n",
      " 36  total_rec_late_fee          35365 non-null  float64\n",
      " 37  recoveries                  35365 non-null  float64\n",
      " 38  collection_recovery_fee     35365 non-null  float64\n",
      " 39  last_pymnt_d                35365 non-null  object \n",
      " 40  last_pymnt_amnt             35365 non-null  float64\n",
      " 41  last_credit_pull_d          35365 non-null  object \n",
      " 42  collections_12_mths_ex_med  35365 non-null  float64\n",
      " 43  policy_code                 35365 non-null  int64  \n",
      " 44  application_type            35365 non-null  object \n",
      " 45  acc_now_delinq              35365 non-null  int64  \n",
      " 46  chargeoff_within_12_mths    35365 non-null  float64\n",
      " 47  delinq_amnt                 35365 non-null  int64  \n",
      " 48  pub_rec_bankruptcies        35365 non-null  float64\n",
      " 49  tax_liens                   35365 non-null  float64\n",
      "dtypes: float64(18), int64(11), object(21)\n",
      "memory usage: 13.8+ MB\n"
     ]
    }
   ],
   "source": [
    "loan_df.info()"
   ]
  },
  {
   "cell_type": "code",
   "execution_count": 723,
   "metadata": {},
   "outputs": [
    {
     "data": {
      "text/plain": [
       "0.00    35365\n",
       "Name: collections_12_mths_ex_med, dtype: int64"
      ]
     },
     "execution_count": 723,
     "metadata": {},
     "output_type": "execute_result"
    }
   ],
   "source": [
    "loan_df.collections_12_mths_ex_med.value_counts(dropna=False)"
   ]
  },
  {
   "cell_type": "code",
   "execution_count": 724,
   "metadata": {},
   "outputs": [
    {
     "data": {
      "text/plain": [
       "0.00    35365\n",
       "Name: chargeoff_within_12_mths, dtype: int64"
      ]
     },
     "execution_count": 724,
     "metadata": {},
     "output_type": "execute_result"
    }
   ],
   "source": [
    "loan_df.chargeoff_within_12_mths.value_counts(dropna=False)"
   ]
  },
  {
   "cell_type": "code",
   "execution_count": 725,
   "metadata": {},
   "outputs": [
    {
     "data": {
      "text/plain": [
       "1    35365\n",
       "Name: policy_code, dtype: int64"
      ]
     },
     "execution_count": 725,
     "metadata": {},
     "output_type": "execute_result"
    }
   ],
   "source": [
    "loan_df.policy_code.value_counts(dropna=False)"
   ]
  },
  {
   "cell_type": "code",
   "execution_count": 726,
   "metadata": {},
   "outputs": [
    {
     "data": {
      "text/plain": [
       "0.00    35365\n",
       "Name: tax_liens, dtype: int64"
      ]
     },
     "execution_count": 726,
     "metadata": {},
     "output_type": "execute_result"
    }
   ],
   "source": [
    "loan_df.tax_liens.value_counts(dropna=False)"
   ]
  },
  {
   "cell_type": "code",
   "execution_count": 727,
   "metadata": {},
   "outputs": [
    {
     "data": {
      "text/plain": [
       "INDIVIDUAL    35365\n",
       "Name: application_type, dtype: int64"
      ]
     },
     "execution_count": 727,
     "metadata": {},
     "output_type": "execute_result"
    }
   ],
   "source": [
    "loan_df.application_type.value_counts(dropna=False)"
   ]
  },
  {
   "cell_type": "code",
   "execution_count": 728,
   "metadata": {},
   "outputs": [
    {
     "data": {
      "text/plain": [
       "0    35365\n",
       "Name: acc_now_delinq, dtype: int64"
      ]
     },
     "execution_count": 728,
     "metadata": {},
     "output_type": "execute_result"
    }
   ],
   "source": [
    "loan_df.acc_now_delinq.value_counts(dropna=False)"
   ]
  },
  {
   "cell_type": "code",
   "execution_count": 729,
   "metadata": {},
   "outputs": [
    {
     "data": {
      "text/plain": [
       "n    35365\n",
       "Name: pymnt_plan, dtype: int64"
      ]
     },
     "execution_count": 729,
     "metadata": {},
     "output_type": "execute_result"
    }
   ],
   "source": [
    "loan_df.pymnt_plan.value_counts(dropna=False)"
   ]
  },
  {
   "cell_type": "code",
   "execution_count": 730,
   "metadata": {},
   "outputs": [
    {
     "data": {
      "text/plain": [
       "f    35365\n",
       "Name: initial_list_status, dtype: int64"
      ]
     },
     "execution_count": 730,
     "metadata": {},
     "output_type": "execute_result"
    }
   ],
   "source": [
    "loan_df.initial_list_status.value_counts(dropna=False)"
   ]
  },
  {
   "cell_type": "code",
   "execution_count": 731,
   "metadata": {},
   "outputs": [
    {
     "data": {
      "text/plain": [
       "100xx    526\n",
       "945xx    494\n",
       "606xx    468\n",
       "112xx    466\n",
       "070xx    423\n",
       "        ... \n",
       "463xx      1\n",
       "373xx      1\n",
       "681xx      1\n",
       "673xx      1\n",
       "461xx      1\n",
       "Name: zip_code, Length: 804, dtype: int64"
      ]
     },
     "execution_count": 731,
     "metadata": {},
     "output_type": "execute_result"
    }
   ],
   "source": [
    "loan_df.zip_code.value_counts(dropna=False)"
   ]
  },
  {
   "cell_type": "code",
   "execution_count": 732,
   "metadata": {},
   "outputs": [
    {
     "data": {
      "text/plain": [
       "0    35365\n",
       "Name: delinq_amnt, dtype: int64"
      ]
     },
     "execution_count": 732,
     "metadata": {},
     "output_type": "execute_result"
    }
   ],
   "source": [
    "loan_df.delinq_amnt.value_counts(dropna=False)"
   ]
  },
  {
   "cell_type": "markdown",
   "metadata": {},
   "source": [
    "**1. Since the values of**\n",
    "\n",
    "    pymnt_plan, \n",
    "    acc_now_delinq, \n",
    "    application_type, \n",
    "    tax_liens, \n",
    "    policy_code,\n",
    "    collections_12_mths_ex_med, delinq_amnt,  \n",
    "    initial_list_status and chargeoff_within_12_mths \n",
    "    \n",
    "   **are same for all rows, we will drop these columns**\n",
    "\n",
    "**2. The zip_code doesn't add value and hence will be dropped too.**\n"
   ]
  },
  {
   "cell_type": "code",
   "execution_count": 733,
   "metadata": {},
   "outputs": [],
   "source": [
    "loan_df = loan_df.drop(['zip_code','pymnt_plan', 'acc_now_delinq','delinq_amnt','application_type','tax_liens','policy_code','chargeoff_within_12_mths','collections_12_mths_ex_med','initial_list_status'],axis=1)"
   ]
  },
  {
   "cell_type": "code",
   "execution_count": 734,
   "metadata": {},
   "outputs": [
    {
     "data": {
      "text/html": [
       "<div>\n",
       "<style scoped>\n",
       "    .dataframe tbody tr th:only-of-type {\n",
       "        vertical-align: middle;\n",
       "    }\n",
       "\n",
       "    .dataframe tbody tr th {\n",
       "        vertical-align: top;\n",
       "    }\n",
       "\n",
       "    .dataframe thead th {\n",
       "        text-align: right;\n",
       "    }\n",
       "</style>\n",
       "<table border=\"1\" class=\"dataframe\">\n",
       "  <thead>\n",
       "    <tr style=\"text-align: right;\">\n",
       "      <th></th>\n",
       "      <th>loan_amnt</th>\n",
       "      <th>funded_amnt</th>\n",
       "      <th>funded_amnt_inv</th>\n",
       "      <th>term</th>\n",
       "      <th>int_rate</th>\n",
       "      <th>installment</th>\n",
       "      <th>grade</th>\n",
       "      <th>sub_grade</th>\n",
       "      <th>emp_title</th>\n",
       "      <th>emp_length</th>\n",
       "      <th>home_ownership</th>\n",
       "      <th>annual_inc</th>\n",
       "      <th>verification_status</th>\n",
       "      <th>issue_d</th>\n",
       "      <th>loan_status</th>\n",
       "      <th>purpose</th>\n",
       "      <th>title</th>\n",
       "      <th>addr_state</th>\n",
       "      <th>dti</th>\n",
       "      <th>delinq_2yrs</th>\n",
       "      <th>earliest_cr_line</th>\n",
       "      <th>inq_last_6mths</th>\n",
       "      <th>open_acc</th>\n",
       "      <th>pub_rec</th>\n",
       "      <th>revol_bal</th>\n",
       "      <th>revol_util</th>\n",
       "      <th>total_acc</th>\n",
       "      <th>out_prncp</th>\n",
       "      <th>out_prncp_inv</th>\n",
       "      <th>total_pymnt</th>\n",
       "      <th>total_pymnt_inv</th>\n",
       "      <th>total_rec_prncp</th>\n",
       "      <th>total_rec_int</th>\n",
       "      <th>total_rec_late_fee</th>\n",
       "      <th>recoveries</th>\n",
       "      <th>collection_recovery_fee</th>\n",
       "      <th>last_pymnt_d</th>\n",
       "      <th>last_pymnt_amnt</th>\n",
       "      <th>last_credit_pull_d</th>\n",
       "      <th>pub_rec_bankruptcies</th>\n",
       "    </tr>\n",
       "  </thead>\n",
       "  <tbody>\n",
       "    <tr>\n",
       "      <th>66</th>\n",
       "      <td>12500</td>\n",
       "      <td>8925</td>\n",
       "      <td>8925.00</td>\n",
       "      <td>60 months</td>\n",
       "      <td>17.27%</td>\n",
       "      <td>223.11</td>\n",
       "      <td>D</td>\n",
       "      <td>D3</td>\n",
       "      <td>grandma kitchen</td>\n",
       "      <td>5 years</td>\n",
       "      <td>RENT</td>\n",
       "      <td>30000.00</td>\n",
       "      <td>Source Verified</td>\n",
       "      <td>Dec-11</td>\n",
       "      <td>CHARGED OFF</td>\n",
       "      <td>debt_consolidation</td>\n",
       "      <td>allen</td>\n",
       "      <td>MN</td>\n",
       "      <td>13.16</td>\n",
       "      <td>0</td>\n",
       "      <td>Apr-95</td>\n",
       "      <td>0</td>\n",
       "      <td>7</td>\n",
       "      <td>1</td>\n",
       "      <td>9844</td>\n",
       "      <td>70.80%</td>\n",
       "      <td>28</td>\n",
       "      <td>0.00</td>\n",
       "      <td>0.00</td>\n",
       "      <td>5577.75</td>\n",
       "      <td>5577.75</td>\n",
       "      <td>2812.82</td>\n",
       "      <td>2742.43</td>\n",
       "      <td>0.00</td>\n",
       "      <td>22.50</td>\n",
       "      <td>0.00</td>\n",
       "      <td>Feb-14</td>\n",
       "      <td>223.11</td>\n",
       "      <td>May-16</td>\n",
       "      <td>1.00</td>\n",
       "    </tr>\n",
       "    <tr>\n",
       "      <th>70</th>\n",
       "      <td>20975</td>\n",
       "      <td>13575</td>\n",
       "      <td>13550.00</td>\n",
       "      <td>60 months</td>\n",
       "      <td>17.58%</td>\n",
       "      <td>341.63</td>\n",
       "      <td>D</td>\n",
       "      <td>D4</td>\n",
       "      <td>Dollar Tree Stores</td>\n",
       "      <td>5 years</td>\n",
       "      <td>MORTGAGE</td>\n",
       "      <td>44000.00</td>\n",
       "      <td>Verified</td>\n",
       "      <td>Dec-11</td>\n",
       "      <td>FULLY PAID</td>\n",
       "      <td>credit_card</td>\n",
       "      <td>Refinance Loan</td>\n",
       "      <td>GA</td>\n",
       "      <td>18.79</td>\n",
       "      <td>0</td>\n",
       "      <td>Apr-00</td>\n",
       "      <td>0</td>\n",
       "      <td>13</td>\n",
       "      <td>1</td>\n",
       "      <td>20657</td>\n",
       "      <td>79.40%</td>\n",
       "      <td>21</td>\n",
       "      <td>0.00</td>\n",
       "      <td>0.00</td>\n",
       "      <td>18112.46</td>\n",
       "      <td>18079.10</td>\n",
       "      <td>13575.00</td>\n",
       "      <td>4537.46</td>\n",
       "      <td>0.00</td>\n",
       "      <td>0.00</td>\n",
       "      <td>0.00</td>\n",
       "      <td>Apr-14</td>\n",
       "      <td>9245.21</td>\n",
       "      <td>Apr-14</td>\n",
       "      <td>1.00</td>\n",
       "    </tr>\n",
       "    <tr>\n",
       "      <th>77</th>\n",
       "      <td>7250</td>\n",
       "      <td>7200</td>\n",
       "      <td>7175.00</td>\n",
       "      <td>60 months</td>\n",
       "      <td>21.67%</td>\n",
       "      <td>197.51</td>\n",
       "      <td>F</td>\n",
       "      <td>F3</td>\n",
       "      <td>Cross Country Travel Corp</td>\n",
       "      <td>&lt; 1 year</td>\n",
       "      <td>RENT</td>\n",
       "      <td>75000.00</td>\n",
       "      <td>Verified</td>\n",
       "      <td>Dec-11</td>\n",
       "      <td>FULLY PAID</td>\n",
       "      <td>debt_consolidation</td>\n",
       "      <td>Debt Consolidation Loan</td>\n",
       "      <td>CA</td>\n",
       "      <td>24.82</td>\n",
       "      <td>0</td>\n",
       "      <td>May-00</td>\n",
       "      <td>2</td>\n",
       "      <td>9</td>\n",
       "      <td>1</td>\n",
       "      <td>21706</td>\n",
       "      <td>91.20%</td>\n",
       "      <td>19</td>\n",
       "      <td>0.00</td>\n",
       "      <td>0.00</td>\n",
       "      <td>8204.77</td>\n",
       "      <td>8176.29</td>\n",
       "      <td>7200.00</td>\n",
       "      <td>1004.77</td>\n",
       "      <td>0.00</td>\n",
       "      <td>0.00</td>\n",
       "      <td>0.00</td>\n",
       "      <td>Sep-12</td>\n",
       "      <td>6824.70</td>\n",
       "      <td>Apr-16</td>\n",
       "      <td>1.00</td>\n",
       "    </tr>\n",
       "    <tr>\n",
       "      <th>80</th>\n",
       "      <td>35000</td>\n",
       "      <td>22075</td>\n",
       "      <td>22050.00</td>\n",
       "      <td>60 months</td>\n",
       "      <td>17.27%</td>\n",
       "      <td>551.84</td>\n",
       "      <td>D</td>\n",
       "      <td>D3</td>\n",
       "      <td>tutor Per ini Corporation</td>\n",
       "      <td>3 years</td>\n",
       "      <td>MORTGAGE</td>\n",
       "      <td>150000.00</td>\n",
       "      <td>Verified</td>\n",
       "      <td>Dec-11</td>\n",
       "      <td>FULLY PAID</td>\n",
       "      <td>home_improvement</td>\n",
       "      <td>Home improvement</td>\n",
       "      <td>NY</td>\n",
       "      <td>7.51</td>\n",
       "      <td>0</td>\n",
       "      <td>Jun-03</td>\n",
       "      <td>1</td>\n",
       "      <td>11</td>\n",
       "      <td>0</td>\n",
       "      <td>7334</td>\n",
       "      <td>53.30%</td>\n",
       "      <td>31</td>\n",
       "      <td>0.00</td>\n",
       "      <td>0.00</td>\n",
       "      <td>28887.10</td>\n",
       "      <td>28854.39</td>\n",
       "      <td>22075.00</td>\n",
       "      <td>6812.10</td>\n",
       "      <td>0.00</td>\n",
       "      <td>0.00</td>\n",
       "      <td>0.00</td>\n",
       "      <td>Feb-14</td>\n",
       "      <td>15660.22</td>\n",
       "      <td>Feb-14</td>\n",
       "      <td>0.00</td>\n",
       "    </tr>\n",
       "    <tr>\n",
       "      <th>96</th>\n",
       "      <td>20000</td>\n",
       "      <td>12800</td>\n",
       "      <td>12775.00</td>\n",
       "      <td>60 months</td>\n",
       "      <td>11.71%</td>\n",
       "      <td>282.86</td>\n",
       "      <td>B</td>\n",
       "      <td>B3</td>\n",
       "      <td>NCS Technologies</td>\n",
       "      <td>4 years</td>\n",
       "      <td>MORTGAGE</td>\n",
       "      <td>47800.00</td>\n",
       "      <td>Verified</td>\n",
       "      <td>Dec-11</td>\n",
       "      <td>FULLY PAID</td>\n",
       "      <td>debt_consolidation</td>\n",
       "      <td>Bill Consolidation</td>\n",
       "      <td>VA</td>\n",
       "      <td>10.04</td>\n",
       "      <td>0</td>\n",
       "      <td>Nov-01</td>\n",
       "      <td>0</td>\n",
       "      <td>15</td>\n",
       "      <td>0</td>\n",
       "      <td>16447</td>\n",
       "      <td>46.30%</td>\n",
       "      <td>27</td>\n",
       "      <td>0.00</td>\n",
       "      <td>0.00</td>\n",
       "      <td>15169.31</td>\n",
       "      <td>15139.68</td>\n",
       "      <td>12800.00</td>\n",
       "      <td>2369.31</td>\n",
       "      <td>0.00</td>\n",
       "      <td>0.00</td>\n",
       "      <td>0.00</td>\n",
       "      <td>Nov-13</td>\n",
       "      <td>9242.39</td>\n",
       "      <td>Nov-13</td>\n",
       "      <td>0.00</td>\n",
       "    </tr>\n",
       "    <tr>\n",
       "      <th>...</th>\n",
       "      <td>...</td>\n",
       "      <td>...</td>\n",
       "      <td>...</td>\n",
       "      <td>...</td>\n",
       "      <td>...</td>\n",
       "      <td>...</td>\n",
       "      <td>...</td>\n",
       "      <td>...</td>\n",
       "      <td>...</td>\n",
       "      <td>...</td>\n",
       "      <td>...</td>\n",
       "      <td>...</td>\n",
       "      <td>...</td>\n",
       "      <td>...</td>\n",
       "      <td>...</td>\n",
       "      <td>...</td>\n",
       "      <td>...</td>\n",
       "      <td>...</td>\n",
       "      <td>...</td>\n",
       "      <td>...</td>\n",
       "      <td>...</td>\n",
       "      <td>...</td>\n",
       "      <td>...</td>\n",
       "      <td>...</td>\n",
       "      <td>...</td>\n",
       "      <td>...</td>\n",
       "      <td>...</td>\n",
       "      <td>...</td>\n",
       "      <td>...</td>\n",
       "      <td>...</td>\n",
       "      <td>...</td>\n",
       "      <td>...</td>\n",
       "      <td>...</td>\n",
       "      <td>...</td>\n",
       "      <td>...</td>\n",
       "      <td>...</td>\n",
       "      <td>...</td>\n",
       "      <td>...</td>\n",
       "      <td>...</td>\n",
       "      <td>...</td>\n",
       "    </tr>\n",
       "    <tr>\n",
       "      <th>38886</th>\n",
       "      <td>25000</td>\n",
       "      <td>18175</td>\n",
       "      <td>14903.25</td>\n",
       "      <td>36 months</td>\n",
       "      <td>10.08%</td>\n",
       "      <td>587.14</td>\n",
       "      <td>B</td>\n",
       "      <td>B3</td>\n",
       "      <td>Emergency Medical Associate</td>\n",
       "      <td>2 years</td>\n",
       "      <td>MORTGAGE</td>\n",
       "      <td>225000.00</td>\n",
       "      <td>Verified</td>\n",
       "      <td>Apr-08</td>\n",
       "      <td>FULLY PAID</td>\n",
       "      <td>major_purchase</td>\n",
       "      <td>Partnership</td>\n",
       "      <td>NJ</td>\n",
       "      <td>4.51</td>\n",
       "      <td>0</td>\n",
       "      <td>Apr-93</td>\n",
       "      <td>0</td>\n",
       "      <td>9</td>\n",
       "      <td>0</td>\n",
       "      <td>2527</td>\n",
       "      <td>39.50%</td>\n",
       "      <td>39</td>\n",
       "      <td>0.00</td>\n",
       "      <td>0.00</td>\n",
       "      <td>21137.04</td>\n",
       "      <td>17231.66</td>\n",
       "      <td>18175.00</td>\n",
       "      <td>2962.04</td>\n",
       "      <td>0.00</td>\n",
       "      <td>0.00</td>\n",
       "      <td>0.00</td>\n",
       "      <td>Apr-11</td>\n",
       "      <td>621.31</td>\n",
       "      <td>Mar-11</td>\n",
       "      <td>0.00</td>\n",
       "    </tr>\n",
       "    <tr>\n",
       "      <th>38889</th>\n",
       "      <td>12000</td>\n",
       "      <td>6500</td>\n",
       "      <td>4250.00</td>\n",
       "      <td>36 months</td>\n",
       "      <td>11.34%</td>\n",
       "      <td>213.85</td>\n",
       "      <td>C</td>\n",
       "      <td>C2</td>\n",
       "      <td>Vandroff Insurance Agency Inc</td>\n",
       "      <td>10+ years</td>\n",
       "      <td>OWN</td>\n",
       "      <td>51000.00</td>\n",
       "      <td>Not Verified</td>\n",
       "      <td>Apr-08</td>\n",
       "      <td>FULLY PAID</td>\n",
       "      <td>debt_consolidation</td>\n",
       "      <td>debt consolidation</td>\n",
       "      <td>FL</td>\n",
       "      <td>20.82</td>\n",
       "      <td>0</td>\n",
       "      <td>May-84</td>\n",
       "      <td>3</td>\n",
       "      <td>14</td>\n",
       "      <td>1</td>\n",
       "      <td>23119</td>\n",
       "      <td>50.60%</td>\n",
       "      <td>22</td>\n",
       "      <td>0.00</td>\n",
       "      <td>0.00</td>\n",
       "      <td>7723.78</td>\n",
       "      <td>5050.17</td>\n",
       "      <td>6500.00</td>\n",
       "      <td>1223.78</td>\n",
       "      <td>0.00</td>\n",
       "      <td>0.00</td>\n",
       "      <td>0.00</td>\n",
       "      <td>Apr-11</td>\n",
       "      <td>263.30</td>\n",
       "      <td>Apr-11</td>\n",
       "      <td>1.00</td>\n",
       "    </tr>\n",
       "    <tr>\n",
       "      <th>38890</th>\n",
       "      <td>25000</td>\n",
       "      <td>18825</td>\n",
       "      <td>14575.18</td>\n",
       "      <td>36 months</td>\n",
       "      <td>15.76%</td>\n",
       "      <td>659.61</td>\n",
       "      <td>F</td>\n",
       "      <td>F1</td>\n",
       "      <td>epsg management services</td>\n",
       "      <td>7 years</td>\n",
       "      <td>MORTGAGE</td>\n",
       "      <td>120000.00</td>\n",
       "      <td>Verified</td>\n",
       "      <td>Apr-08</td>\n",
       "      <td>FULLY PAID</td>\n",
       "      <td>debt_consolidation</td>\n",
       "      <td>Debt Consolidation</td>\n",
       "      <td>CA</td>\n",
       "      <td>14.23</td>\n",
       "      <td>1</td>\n",
       "      <td>May-94</td>\n",
       "      <td>2</td>\n",
       "      <td>9</td>\n",
       "      <td>1</td>\n",
       "      <td>27550</td>\n",
       "      <td>94.60%</td>\n",
       "      <td>30</td>\n",
       "      <td>0.00</td>\n",
       "      <td>0.00</td>\n",
       "      <td>23817.34</td>\n",
       "      <td>18440.49</td>\n",
       "      <td>18825.00</td>\n",
       "      <td>4929.18</td>\n",
       "      <td>63.16</td>\n",
       "      <td>0.00</td>\n",
       "      <td>0.00</td>\n",
       "      <td>May-11</td>\n",
       "      <td>68.69</td>\n",
       "      <td>May-11</td>\n",
       "      <td>1.00</td>\n",
       "    </tr>\n",
       "    <tr>\n",
       "      <th>38893</th>\n",
       "      <td>20000</td>\n",
       "      <td>6875</td>\n",
       "      <td>3775.00</td>\n",
       "      <td>36 months</td>\n",
       "      <td>10.71%</td>\n",
       "      <td>224.14</td>\n",
       "      <td>B</td>\n",
       "      <td>B5</td>\n",
       "      <td>Sears Holdings Corporation</td>\n",
       "      <td>4 years</td>\n",
       "      <td>MORTGAGE</td>\n",
       "      <td>39000.00</td>\n",
       "      <td>Not Verified</td>\n",
       "      <td>Apr-08</td>\n",
       "      <td>FULLY PAID</td>\n",
       "      <td>credit_card</td>\n",
       "      <td>Cons. Debt/Lower Interest &amp; One Payment</td>\n",
       "      <td>TX</td>\n",
       "      <td>9.66</td>\n",
       "      <td>0</td>\n",
       "      <td>Mar-95</td>\n",
       "      <td>1</td>\n",
       "      <td>3</td>\n",
       "      <td>0</td>\n",
       "      <td>19383</td>\n",
       "      <td>90.20%</td>\n",
       "      <td>25</td>\n",
       "      <td>0.00</td>\n",
       "      <td>0.00</td>\n",
       "      <td>7221.29</td>\n",
       "      <td>3965.23</td>\n",
       "      <td>6875.00</td>\n",
       "      <td>346.29</td>\n",
       "      <td>0.00</td>\n",
       "      <td>0.00</td>\n",
       "      <td>0.00</td>\n",
       "      <td>Oct-08</td>\n",
       "      <td>6102.79</td>\n",
       "      <td>Sep-08</td>\n",
       "      <td>0.00</td>\n",
       "    </tr>\n",
       "    <tr>\n",
       "      <th>38897</th>\n",
       "      <td>23000</td>\n",
       "      <td>4325</td>\n",
       "      <td>1684.11</td>\n",
       "      <td>36 months</td>\n",
       "      <td>11.03%</td>\n",
       "      <td>141.66</td>\n",
       "      <td>C</td>\n",
       "      <td>C1</td>\n",
       "      <td>Self Employed</td>\n",
       "      <td>&lt; 1 year</td>\n",
       "      <td>MORTGAGE</td>\n",
       "      <td>120000.00</td>\n",
       "      <td>Not Verified</td>\n",
       "      <td>Apr-08</td>\n",
       "      <td>FULLY PAID</td>\n",
       "      <td>other</td>\n",
       "      <td>Business Loan</td>\n",
       "      <td>CA</td>\n",
       "      <td>15.07</td>\n",
       "      <td>0</td>\n",
       "      <td>Dec-93</td>\n",
       "      <td>1</td>\n",
       "      <td>11</td>\n",
       "      <td>0</td>\n",
       "      <td>70685</td>\n",
       "      <td>88.70%</td>\n",
       "      <td>30</td>\n",
       "      <td>0.00</td>\n",
       "      <td>0.00</td>\n",
       "      <td>5099.61</td>\n",
       "      <td>1925.81</td>\n",
       "      <td>4325.00</td>\n",
       "      <td>774.61</td>\n",
       "      <td>0.00</td>\n",
       "      <td>0.00</td>\n",
       "      <td>0.00</td>\n",
       "      <td>Apr-11</td>\n",
       "      <td>148.28</td>\n",
       "      <td>Mar-11</td>\n",
       "      <td>0.00</td>\n",
       "    </tr>\n",
       "  </tbody>\n",
       "</table>\n",
       "<p>1643 rows × 40 columns</p>\n",
       "</div>"
      ],
      "text/plain": [
       "       loan_amnt  funded_amnt  funded_amnt_inv        term int_rate  \\\n",
       "66         12500         8925          8925.00   60 months   17.27%   \n",
       "70         20975        13575         13550.00   60 months   17.58%   \n",
       "77          7250         7200          7175.00   60 months   21.67%   \n",
       "80         35000        22075         22050.00   60 months   17.27%   \n",
       "96         20000        12800         12775.00   60 months   11.71%   \n",
       "...          ...          ...              ...         ...      ...   \n",
       "38886      25000        18175         14903.25   36 months   10.08%   \n",
       "38889      12000         6500          4250.00   36 months   11.34%   \n",
       "38890      25000        18825         14575.18   36 months   15.76%   \n",
       "38893      20000         6875          3775.00   36 months   10.71%   \n",
       "38897      23000         4325          1684.11   36 months   11.03%   \n",
       "\n",
       "       installment grade sub_grade                      emp_title emp_length  \\\n",
       "66          223.11     D        D3                grandma kitchen    5 years   \n",
       "70          341.63     D        D4             Dollar Tree Stores    5 years   \n",
       "77          197.51     F        F3      Cross Country Travel Corp   < 1 year   \n",
       "80          551.84     D        D3      tutor Per ini Corporation    3 years   \n",
       "96          282.86     B        B3               NCS Technologies    4 years   \n",
       "...            ...   ...       ...                            ...        ...   \n",
       "38886       587.14     B        B3    Emergency Medical Associate    2 years   \n",
       "38889       213.85     C        C2  Vandroff Insurance Agency Inc  10+ years   \n",
       "38890       659.61     F        F1       epsg management services    7 years   \n",
       "38893       224.14     B        B5     Sears Holdings Corporation    4 years   \n",
       "38897       141.66     C        C1                  Self Employed   < 1 year   \n",
       "\n",
       "      home_ownership  annual_inc verification_status issue_d  loan_status  \\\n",
       "66              RENT    30000.00     Source Verified  Dec-11  CHARGED OFF   \n",
       "70          MORTGAGE    44000.00            Verified  Dec-11   FULLY PAID   \n",
       "77              RENT    75000.00            Verified  Dec-11   FULLY PAID   \n",
       "80          MORTGAGE   150000.00            Verified  Dec-11   FULLY PAID   \n",
       "96          MORTGAGE    47800.00            Verified  Dec-11   FULLY PAID   \n",
       "...              ...         ...                 ...     ...          ...   \n",
       "38886       MORTGAGE   225000.00            Verified  Apr-08   FULLY PAID   \n",
       "38889            OWN    51000.00        Not Verified  Apr-08   FULLY PAID   \n",
       "38890       MORTGAGE   120000.00            Verified  Apr-08   FULLY PAID   \n",
       "38893       MORTGAGE    39000.00        Not Verified  Apr-08   FULLY PAID   \n",
       "38897       MORTGAGE   120000.00        Not Verified  Apr-08   FULLY PAID   \n",
       "\n",
       "                  purpose                                    title addr_state  \\\n",
       "66     debt_consolidation                                    allen         MN   \n",
       "70            credit_card                           Refinance Loan         GA   \n",
       "77     debt_consolidation                  Debt Consolidation Loan         CA   \n",
       "80       home_improvement                         Home improvement         NY   \n",
       "96     debt_consolidation                       Bill Consolidation         VA   \n",
       "...                   ...                                      ...        ...   \n",
       "38886      major_purchase                              Partnership         NJ   \n",
       "38889  debt_consolidation                       debt consolidation         FL   \n",
       "38890  debt_consolidation                       Debt Consolidation         CA   \n",
       "38893         credit_card  Cons. Debt/Lower Interest & One Payment         TX   \n",
       "38897               other                            Business Loan         CA   \n",
       "\n",
       "        dti  delinq_2yrs earliest_cr_line  inq_last_6mths  open_acc  pub_rec  \\\n",
       "66    13.16            0           Apr-95               0         7        1   \n",
       "70    18.79            0           Apr-00               0        13        1   \n",
       "77    24.82            0           May-00               2         9        1   \n",
       "80     7.51            0           Jun-03               1        11        0   \n",
       "96    10.04            0           Nov-01               0        15        0   \n",
       "...     ...          ...              ...             ...       ...      ...   \n",
       "38886  4.51            0           Apr-93               0         9        0   \n",
       "38889 20.82            0           May-84               3        14        1   \n",
       "38890 14.23            1           May-94               2         9        1   \n",
       "38893  9.66            0           Mar-95               1         3        0   \n",
       "38897 15.07            0           Dec-93               1        11        0   \n",
       "\n",
       "       revol_bal revol_util  total_acc  out_prncp  out_prncp_inv  total_pymnt  \\\n",
       "66          9844     70.80%         28       0.00           0.00      5577.75   \n",
       "70         20657     79.40%         21       0.00           0.00     18112.46   \n",
       "77         21706     91.20%         19       0.00           0.00      8204.77   \n",
       "80          7334     53.30%         31       0.00           0.00     28887.10   \n",
       "96         16447     46.30%         27       0.00           0.00     15169.31   \n",
       "...          ...        ...        ...        ...            ...          ...   \n",
       "38886       2527     39.50%         39       0.00           0.00     21137.04   \n",
       "38889      23119     50.60%         22       0.00           0.00      7723.78   \n",
       "38890      27550     94.60%         30       0.00           0.00     23817.34   \n",
       "38893      19383     90.20%         25       0.00           0.00      7221.29   \n",
       "38897      70685     88.70%         30       0.00           0.00      5099.61   \n",
       "\n",
       "       total_pymnt_inv  total_rec_prncp  total_rec_int  total_rec_late_fee  \\\n",
       "66             5577.75          2812.82        2742.43                0.00   \n",
       "70            18079.10         13575.00        4537.46                0.00   \n",
       "77             8176.29          7200.00        1004.77                0.00   \n",
       "80            28854.39         22075.00        6812.10                0.00   \n",
       "96            15139.68         12800.00        2369.31                0.00   \n",
       "...                ...              ...            ...                 ...   \n",
       "38886         17231.66         18175.00        2962.04                0.00   \n",
       "38889          5050.17          6500.00        1223.78                0.00   \n",
       "38890         18440.49         18825.00        4929.18               63.16   \n",
       "38893          3965.23          6875.00         346.29                0.00   \n",
       "38897          1925.81          4325.00         774.61                0.00   \n",
       "\n",
       "       recoveries  collection_recovery_fee last_pymnt_d  last_pymnt_amnt  \\\n",
       "66          22.50                     0.00       Feb-14           223.11   \n",
       "70           0.00                     0.00       Apr-14          9245.21   \n",
       "77           0.00                     0.00       Sep-12          6824.70   \n",
       "80           0.00                     0.00       Feb-14         15660.22   \n",
       "96           0.00                     0.00       Nov-13          9242.39   \n",
       "...           ...                      ...          ...              ...   \n",
       "38886        0.00                     0.00       Apr-11           621.31   \n",
       "38889        0.00                     0.00       Apr-11           263.30   \n",
       "38890        0.00                     0.00       May-11            68.69   \n",
       "38893        0.00                     0.00       Oct-08          6102.79   \n",
       "38897        0.00                     0.00       Apr-11           148.28   \n",
       "\n",
       "      last_credit_pull_d  pub_rec_bankruptcies  \n",
       "66                May-16                  1.00  \n",
       "70                Apr-14                  1.00  \n",
       "77                Apr-16                  1.00  \n",
       "80                Feb-14                  0.00  \n",
       "96                Nov-13                  0.00  \n",
       "...                  ...                   ...  \n",
       "38886             Mar-11                  0.00  \n",
       "38889             Apr-11                  1.00  \n",
       "38890             May-11                  1.00  \n",
       "38893             Sep-08                  0.00  \n",
       "38897             Mar-11                  0.00  \n",
       "\n",
       "[1643 rows x 40 columns]"
      ]
     },
     "execution_count": 734,
     "metadata": {},
     "output_type": "execute_result"
    }
   ],
   "source": [
    "loan_df[loan_df['loan_amnt'] != loan_df['funded_amnt']]"
   ]
  },
  {
   "cell_type": "markdown",
   "metadata": {},
   "source": [
    "**We have 1643 rows where the funded_amt is less than the loan_amt. This difference can be a insight to be analysed ?**\n",
    "\n",
    "But the numbers are very less and hence we can drop the funded_amt too"
   ]
  },
  {
   "cell_type": "markdown",
   "metadata": {},
   "source": [
    "**funded_amnt_inv is the total amount committed by the investor after decision making of the loan application and  hence can be dropped.**\n",
    "\n",
    "**Title is free text field containing need for loan provided by the customer. This has been already categorized neatly via the purpose column. So we can drop the title column.**"
   ]
  },
  {
   "cell_type": "code",
   "execution_count": 735,
   "metadata": {},
   "outputs": [],
   "source": [
    "loan_df = loan_df.drop(['funded_amnt','funded_amnt_inv','title'],axis=1)"
   ]
  },
  {
   "cell_type": "code",
   "execution_count": 736,
   "metadata": {},
   "outputs": [
    {
     "data": {
      "text/plain": [
       "(35365, 37)"
      ]
     },
     "execution_count": 736,
     "metadata": {},
     "output_type": "execute_result"
    }
   ],
   "source": [
    "loan_df.shape"
   ]
  },
  {
   "cell_type": "markdown",
   "metadata": {},
   "source": [
    "## Standardize data and fix missing values\n",
    "\n",
    "Imputing Missing Values\n",
    "\n",
    "- For numerical variables use mean and median\n",
    "- For categorical variables use mode\n"
   ]
  },
  {
   "cell_type": "markdown",
   "metadata": {},
   "source": [
    "### Remove % from interest rate , revol_util column and convert to float"
   ]
  },
  {
   "cell_type": "code",
   "execution_count": 737,
   "metadata": {},
   "outputs": [],
   "source": [
    "loan_df.int_rate = loan_df.int_rate.apply(lambda x : float(x.replace('%','')))\n"
   ]
  },
  {
   "cell_type": "code",
   "execution_count": 738,
   "metadata": {},
   "outputs": [],
   "source": [
    "loan_df.revol_util = loan_df.revol_util.apply(lambda x : float(x.replace('%','')))"
   ]
  },
  {
   "cell_type": "code",
   "execution_count": 739,
   "metadata": {},
   "outputs": [
    {
     "data": {
      "text/plain": [
       " 36 months    26375\n",
       " 60 months     8990\n",
       "Name: term, dtype: int64"
      ]
     },
     "execution_count": 739,
     "metadata": {},
     "output_type": "execute_result"
    }
   ],
   "source": [
    "loan_df.term.value_counts()"
   ]
  },
  {
   "cell_type": "markdown",
   "metadata": {},
   "source": [
    "### Strip whitespaces from term and remove 'months'"
   ]
  },
  {
   "cell_type": "code",
   "execution_count": 740,
   "metadata": {},
   "outputs": [],
   "source": [
    "loan_df.term = loan_df.term.apply(lambda x : x.strip().replace('months',''))"
   ]
  },
  {
   "cell_type": "code",
   "execution_count": 741,
   "metadata": {},
   "outputs": [
    {
     "data": {
      "text/plain": [
       "10+ years   0.23\n",
       "2 years     0.12\n",
       "< 1 year    0.11\n",
       "3 years     0.11\n",
       "4 years     0.09\n",
       "5 years     0.09\n",
       "1 year      0.08\n",
       "6 years     0.06\n",
       "7 years     0.05\n",
       "8 years     0.04\n",
       "9 years     0.03\n",
       "Name: emp_length, dtype: float64"
      ]
     },
     "execution_count": 741,
     "metadata": {},
     "output_type": "execute_result"
    }
   ],
   "source": [
    "loan_df.emp_length.value_counts(dropna=False, normalize=True)"
   ]
  },
  {
   "cell_type": "markdown",
   "metadata": {},
   "source": [
    "- Convert all < 1 year to 0 \n",
    "- Convert all 10+ year to 10\n",
    "- Remove year|years"
   ]
  },
  {
   "cell_type": "code",
   "execution_count": 742,
   "metadata": {},
   "outputs": [],
   "source": [
    "#loan_df.emp_length = loan_df.emp_length.apply(lambda x : int(x.strip().replace('years','').replace('year','').replace('+','').replace('< 1','0')))\n",
    "\n",
    "#loan_df.emp_length = loan_df.emp_length.apply(lambda x : int(x.strip().replace('years','').replace('year','').replace('+','').replace('< 1','0')))"
   ]
  },
  {
   "cell_type": "code",
   "execution_count": 743,
   "metadata": {},
   "outputs": [],
   "source": [
    "#loan_df.rename(columns={\"emp_length\": \"emp_length_year\"}, inplace=True)"
   ]
  },
  {
   "cell_type": "code",
   "execution_count": 744,
   "metadata": {},
   "outputs": [],
   "source": [
    "#loan_df.emp_length_year.value_counts()"
   ]
  },
  {
   "cell_type": "markdown",
   "metadata": {},
   "source": [
    "### Convert the emp_title to lower case and also strip off any non alphabet characters. \n"
   ]
  },
  {
   "cell_type": "code",
   "execution_count": 745,
   "metadata": {},
   "outputs": [],
   "source": [
    "loan_df.emp_title = loan_df.emp_title.str.lower().str.replace('[^a-zA-Z]', '')"
   ]
  },
  {
   "cell_type": "code",
   "execution_count": 1,
   "metadata": {},
   "outputs": [
    {
     "ename": "NameError",
     "evalue": "name 'loan_df' is not defined",
     "output_type": "error",
     "traceback": [
      "\u001b[0;31m---------------------------------------------------------------------------\u001b[0m",
      "\u001b[0;31mNameError\u001b[0m                                 Traceback (most recent call last)",
      "\u001b[0;32m<ipython-input-1-459a24355962>\u001b[0m in \u001b[0;36m<module>\u001b[0;34m\u001b[0m\n\u001b[0;32m----> 1\u001b[0;31m \u001b[0mloan_df\u001b[0m\u001b[0;34m.\u001b[0m\u001b[0memp_title\u001b[0m\u001b[0;34m.\u001b[0m\u001b[0mvalue_counts\u001b[0m\u001b[0;34m(\u001b[0m\u001b[0mdropna\u001b[0m\u001b[0;34m=\u001b[0m\u001b[0;32mFalse\u001b[0m\u001b[0;34m)\u001b[0m\u001b[0;34m\u001b[0m\u001b[0;34m\u001b[0m\u001b[0m\n\u001b[0m",
      "\u001b[0;31mNameError\u001b[0m: name 'loan_df' is not defined"
     ]
    }
   ],
   "source": [
    "loan_df.emp_title.value_counts(dropna=False)"
   ]
  },
  {
   "cell_type": "code",
   "execution_count": 747,
   "metadata": {},
   "outputs": [
    {
     "data": {
      "text/plain": [
       "RENT        17065\n",
       "MORTGAGE    15701\n",
       "OWN          2505\n",
       "OTHER          94\n",
       "Name: home_ownership, dtype: int64"
      ]
     },
     "execution_count": 747,
     "metadata": {},
     "output_type": "execute_result"
    }
   ],
   "source": [
    "loan_df.home_ownership.value_counts(dropna=False)"
   ]
  },
  {
   "cell_type": "markdown",
   "metadata": {},
   "source": [
    "### Change NONE value to mode value of the column as the only valid values are RENT, OWN, MORTGAGE, OTHER"
   ]
  },
  {
   "cell_type": "code",
   "execution_count": 748,
   "metadata": {},
   "outputs": [
    {
     "data": {
      "text/plain": [
       "'RENT'"
      ]
     },
     "execution_count": 748,
     "metadata": {},
     "output_type": "execute_result"
    }
   ],
   "source": [
    "loan_df.home_ownership.mode()[0]"
   ]
  },
  {
   "cell_type": "code",
   "execution_count": 749,
   "metadata": {},
   "outputs": [],
   "source": [
    "loan_df.loc[loan_df.home_ownership == 'NONE',['home_ownership']] = 'RENT'"
   ]
  },
  {
   "cell_type": "code",
   "execution_count": 750,
   "metadata": {},
   "outputs": [
    {
     "data": {
      "text/plain": [
       "RENT        17065\n",
       "MORTGAGE    15701\n",
       "OWN          2505\n",
       "OTHER          94\n",
       "Name: home_ownership, dtype: int64"
      ]
     },
     "execution_count": 750,
     "metadata": {},
     "output_type": "execute_result"
    }
   ],
   "source": [
    "loan_df.home_ownership.value_counts(dropna=False)"
   ]
  },
  {
   "cell_type": "code",
   "execution_count": 751,
   "metadata": {},
   "outputs": [
    {
     "data": {
      "text/plain": [
       "Index(['loan_amnt', 'int_rate', 'installment', 'annual_inc', 'dti',\n",
       "       'delinq_2yrs', 'inq_last_6mths', 'open_acc', 'pub_rec', 'revol_bal',\n",
       "       'revol_util', 'total_acc', 'out_prncp', 'out_prncp_inv', 'total_pymnt',\n",
       "       'total_pymnt_inv', 'total_rec_prncp', 'total_rec_int',\n",
       "       'total_rec_late_fee', 'recoveries', 'collection_recovery_fee',\n",
       "       'last_pymnt_amnt', 'pub_rec_bankruptcies'],\n",
       "      dtype='object')"
      ]
     },
     "execution_count": 751,
     "metadata": {},
     "output_type": "execute_result"
    }
   ],
   "source": [
    "loan_df.dtypes[loan_df.dtypes != object].index"
   ]
  },
  {
   "cell_type": "code",
   "execution_count": 752,
   "metadata": {},
   "outputs": [
    {
     "data": {
      "text/plain": [
       "Index(['term', 'grade', 'sub_grade', 'emp_title', 'emp_length',\n",
       "       'home_ownership', 'verification_status', 'issue_d', 'loan_status',\n",
       "       'purpose', 'addr_state', 'earliest_cr_line', 'last_pymnt_d',\n",
       "       'last_credit_pull_d'],\n",
       "      dtype='object')"
      ]
     },
     "execution_count": 752,
     "metadata": {},
     "output_type": "execute_result"
    }
   ],
   "source": [
    "loan_df.dtypes[loan_df.dtypes == object].index"
   ]
  },
  {
   "cell_type": "code",
   "execution_count": 753,
   "metadata": {},
   "outputs": [
    {
     "data": {
      "text/plain": [
       "23"
      ]
     },
     "execution_count": 753,
     "metadata": {},
     "output_type": "execute_result"
    }
   ],
   "source": [
    "len(loan_df.dtypes[loan_df.dtypes != object].index)"
   ]
  },
  {
   "cell_type": "code",
   "execution_count": 754,
   "metadata": {},
   "outputs": [
    {
     "data": {
      "text/plain": [
       "14"
      ]
     },
     "execution_count": 754,
     "metadata": {},
     "output_type": "execute_result"
    }
   ],
   "source": [
    "len(loan_df.dtypes[loan_df.dtypes == object].index)"
   ]
  },
  {
   "cell_type": "markdown",
   "metadata": {},
   "source": [
    "Round of to two decimal places"
   ]
  },
  {
   "cell_type": "code",
   "execution_count": 755,
   "metadata": {},
   "outputs": [],
   "source": [
    "loan_df.total_pymnt = loan_df.total_pymnt.round(2)\n",
    "loan_df.total_pymnt_inv = loan_df.total_pymnt_inv.round(2)\n",
    "loan_df.total_rec_int = loan_df.total_rec_int.round(2)\n",
    "loan_df.recoveries = loan_df.total_rec_int.round(2)\n",
    "loan_df.dti = loan_df.dti.round(2)"
   ]
  },
  {
   "cell_type": "code",
   "execution_count": 756,
   "metadata": {},
   "outputs": [],
   "source": [
    "loan_df.sort_index(axis = 1, inplace=True)"
   ]
  },
  {
   "cell_type": "code",
   "execution_count": 757,
   "metadata": {},
   "outputs": [],
   "source": [
    "loan_df.reset_index(inplace=True,drop=True)"
   ]
  },
  {
   "cell_type": "code",
   "execution_count": 758,
   "metadata": {},
   "outputs": [],
   "source": [
    "loan_df.to_csv('filtered.csv',index=False)"
   ]
  },
  {
   "cell_type": "markdown",
   "metadata": {},
   "source": [
    "### Split the issue_d into issue_month and issue_year"
   ]
  },
  {
   "cell_type": "markdown",
   "metadata": {},
   "source": [
    "**Derived Columns**\n",
    "\n",
    "Issue month and year\n",
    "\n",
    "Loan Ratio\n"
   ]
  },
  {
   "cell_type": "code",
   "execution_count": 759,
   "metadata": {},
   "outputs": [],
   "source": [
    "loan_df['issue_month'], loan_df['issue_year'] = loan_df.issue_d.str.split('-').str"
   ]
  },
  {
   "cell_type": "code",
   "execution_count": 760,
   "metadata": {},
   "outputs": [],
   "source": [
    "loan_df['loan_ratio'] = loan_df['loan_amnt']/loan_df['annual_inc']"
   ]
  },
  {
   "cell_type": "code",
   "execution_count": 761,
   "metadata": {},
   "outputs": [
    {
     "data": {
      "text/html": [
       "<div>\n",
       "<style scoped>\n",
       "    .dataframe tbody tr th:only-of-type {\n",
       "        vertical-align: middle;\n",
       "    }\n",
       "\n",
       "    .dataframe tbody tr th {\n",
       "        vertical-align: top;\n",
       "    }\n",
       "\n",
       "    .dataframe thead th {\n",
       "        text-align: right;\n",
       "    }\n",
       "</style>\n",
       "<table border=\"1\" class=\"dataframe\">\n",
       "  <thead>\n",
       "    <tr style=\"text-align: right;\">\n",
       "      <th></th>\n",
       "      <th>loan_ratio</th>\n",
       "      <th>issue_month</th>\n",
       "      <th>issue_year</th>\n",
       "      <th>loan_amnt</th>\n",
       "      <th>annual_inc</th>\n",
       "    </tr>\n",
       "  </thead>\n",
       "  <tbody>\n",
       "    <tr>\n",
       "      <th>0</th>\n",
       "      <td>0.08</td>\n",
       "      <td>Dec</td>\n",
       "      <td>11</td>\n",
       "      <td>2500</td>\n",
       "      <td>30000.00</td>\n",
       "    </tr>\n",
       "    <tr>\n",
       "      <th>1</th>\n",
       "      <td>0.20</td>\n",
       "      <td>Dec</td>\n",
       "      <td>11</td>\n",
       "      <td>10000</td>\n",
       "      <td>49200.00</td>\n",
       "    </tr>\n",
       "    <tr>\n",
       "      <th>2</th>\n",
       "      <td>0.14</td>\n",
       "      <td>Dec</td>\n",
       "      <td>11</td>\n",
       "      <td>5000</td>\n",
       "      <td>36000.00</td>\n",
       "    </tr>\n",
       "    <tr>\n",
       "      <th>3</th>\n",
       "      <td>0.15</td>\n",
       "      <td>Dec</td>\n",
       "      <td>11</td>\n",
       "      <td>7000</td>\n",
       "      <td>47004.00</td>\n",
       "    </tr>\n",
       "    <tr>\n",
       "      <th>4</th>\n",
       "      <td>0.06</td>\n",
       "      <td>Dec</td>\n",
       "      <td>11</td>\n",
       "      <td>3000</td>\n",
       "      <td>48000.00</td>\n",
       "    </tr>\n",
       "  </tbody>\n",
       "</table>\n",
       "</div>"
      ],
      "text/plain": [
       "   loan_ratio issue_month issue_year  loan_amnt  annual_inc\n",
       "0        0.08         Dec         11       2500    30000.00\n",
       "1        0.20         Dec         11      10000    49200.00\n",
       "2        0.14         Dec         11       5000    36000.00\n",
       "3        0.15         Dec         11       7000    47004.00\n",
       "4        0.06         Dec         11       3000    48000.00"
      ]
     },
     "execution_count": 761,
     "metadata": {},
     "output_type": "execute_result"
    }
   ],
   "source": [
    "loan_df[['loan_ratio','issue_month','issue_year','loan_amnt','annual_inc']].head()"
   ]
  },
  {
   "cell_type": "code",
   "execution_count": 762,
   "metadata": {},
   "outputs": [
    {
     "data": {
      "text/plain": [
       "count     35365.00\n",
       "mean      69097.74\n",
       "std       63968.43\n",
       "min        4000.00\n",
       "10%       30000.00\n",
       "25%       41500.00\n",
       "50%       60000.00\n",
       "75%       82500.00\n",
       "98.5%    200000.00\n",
       "max     6000000.00\n",
       "Name: annual_inc, dtype: float64"
      ]
     },
     "execution_count": 762,
     "metadata": {},
     "output_type": "execute_result"
    }
   ],
   "source": [
    "loan_df.annual_inc.describe(percentiles=[0.1, 0.25, 0.5, 0.75, 0.985])"
   ]
  },
  {
   "cell_type": "code",
   "execution_count": 763,
   "metadata": {},
   "outputs": [
    {
     "data": {
      "image/png": "[encoded data removed]",
      "text/plain": [
       "<Figure size 1080x216 with 1 Axes>"
      ]
     },
     "metadata": {
      "needs_background": "light"
     },
     "output_type": "display_data"
    }
   ],
   "source": [
    "plt.figure(figsize=(15, 3))\n",
    "sns.boxplot(x=loan_df['annual_inc'], data=loan_df)\n",
    "plt.show()"
   ]
  },
  {
   "cell_type": "markdown",
   "metadata": {},
   "source": [
    "**We see outliers for annual_inc which can be removed from analysis. 98.5% is 2K Annual income. \n",
    "We will drop all rows with annual_inc above this**"
   ]
  },
  {
   "cell_type": "code",
   "execution_count": 764,
   "metadata": {},
   "outputs": [],
   "source": [
    "loan_df= loan_df[loan_df.annual_inc <= loan_df[\"annual_inc\"].quantile(.985)]"
   ]
  },
  {
   "cell_type": "code",
   "execution_count": 765,
   "metadata": {},
   "outputs": [
    {
     "data": {
      "image/png": "[encoded data removed]",
      "text/plain": [
       "<Figure size 1080x216 with 1 Axes>"
      ]
     },
     "metadata": {
      "needs_background": "light"
     },
     "output_type": "display_data"
    }
   ],
   "source": [
    "plt.figure(figsize=(15, 3))\n",
    "sns.boxplot(x=loan_df['annual_inc'], data=loan_df)\n",
    "plt.show()"
   ]
  },
  {
   "cell_type": "code",
   "execution_count": 766,
   "metadata": {},
   "outputs": [],
   "source": [
    "loan_df['annual_inc_range'] = pd.cut(loan_df.annual_inc,bins=[0, 20000, 40000, 60000, 80000, 100000, 200000],labels= ['< 20k', '20k - 40k', '40k - 60k', '60k - 80k', '80k - 1L','> 1L'])"
   ]
  },
  {
   "cell_type": "code",
   "execution_count": 767,
   "metadata": {},
   "outputs": [
    {
     "data": {
      "text/plain": [
       "40k - 60k    10454\n",
       "20k - 40k     7607\n",
       "60k - 80k     7163\n",
       "> 1L          4527\n",
       "80k - 1L      4242\n",
       "< 20k          878\n",
       "Name: annual_inc_range, dtype: int64"
      ]
     },
     "execution_count": 767,
     "metadata": {},
     "output_type": "execute_result"
    }
   ],
   "source": [
    "loan_df.annual_inc_range.value_counts()"
   ]
  },
  {
   "cell_type": "code",
   "execution_count": 768,
   "metadata": {},
   "outputs": [
    {
     "data": {
      "text/plain": [
       "count   34871.00\n",
       "mean       11.96\n",
       "std         3.69\n",
       "min         5.42\n",
       "10%         7.14\n",
       "25%         8.94\n",
       "50%        11.83\n",
       "75%        14.46\n",
       "98.5%      20.30\n",
       "max        24.40\n",
       "Name: int_rate, dtype: float64"
      ]
     },
     "execution_count": 768,
     "metadata": {},
     "output_type": "execute_result"
    }
   ],
   "source": [
    "loan_df.int_rate.describe(percentiles=[0.1, 0.25, 0.5, 0.75, 0.985])"
   ]
  },
  {
   "cell_type": "code",
   "execution_count": 769,
   "metadata": {},
   "outputs": [
    {
     "data": {
      "image/png": "[encoded data removed]",
      "text/plain": [
       "<Figure size 1080x216 with 1 Axes>"
      ]
     },
     "metadata": {
      "needs_background": "light"
     },
     "output_type": "display_data"
    }
   ],
   "source": [
    "plt.figure(figsize=(15, 3))\n",
    "sns.boxplot(x=loan_df['int_rate'], data=loan_df)\n",
    "plt.show()"
   ]
  },
  {
   "cell_type": "code",
   "execution_count": 770,
   "metadata": {},
   "outputs": [],
   "source": [
    "loan_df['int_rate_range'] = pd.cut(loan_df.int_rate,bins=[0, 6, 8, 12, 15, 25],labels= ['0-6', '6-8', '8-12', '12-15','>15'])"
   ]
  },
  {
   "cell_type": "code",
   "execution_count": 771,
   "metadata": {},
   "outputs": [
    {
     "data": {
      "text/plain": [
       "8-12     11063\n",
       "12-15     9048\n",
       ">15       7330\n",
       "6-8       6222\n",
       "0-6       1208\n",
       "Name: int_rate_range, dtype: int64"
      ]
     },
     "execution_count": 771,
     "metadata": {},
     "output_type": "execute_result"
    }
   ],
   "source": [
    "loan_df.int_rate_range.value_counts()"
   ]
  },
  {
   "cell_type": "code",
   "execution_count": 772,
   "metadata": {},
   "outputs": [
    {
     "name": "stdout",
     "output_type": "stream",
     "text": [
      "<class 'pandas.core.frame.DataFrame'>\n",
      "Int64Index: 34871 entries, 0 to 35364\n",
      "Data columns (total 42 columns):\n",
      " #   Column                   Non-Null Count  Dtype   \n",
      "---  ------                   --------------  -----   \n",
      " 0   addr_state               34871 non-null  object  \n",
      " 1   annual_inc               34871 non-null  float64 \n",
      " 2   collection_recovery_fee  34871 non-null  float64 \n",
      " 3   delinq_2yrs              34871 non-null  int64   \n",
      " 4   dti                      34871 non-null  float64 \n",
      " 5   earliest_cr_line         34871 non-null  object  \n",
      " 6   emp_length               34871 non-null  object  \n",
      " 7   emp_title                34871 non-null  object  \n",
      " 8   grade                    34871 non-null  object  \n",
      " 9   home_ownership           34871 non-null  object  \n",
      " 10  inq_last_6mths           34871 non-null  int64   \n",
      " 11  installment              34871 non-null  float64 \n",
      " 12  int_rate                 34871 non-null  float64 \n",
      " 13  issue_d                  34871 non-null  object  \n",
      " 14  last_credit_pull_d       34871 non-null  object  \n",
      " 15  last_pymnt_amnt          34871 non-null  float64 \n",
      " 16  last_pymnt_d             34871 non-null  object  \n",
      " 17  loan_amnt                34871 non-null  int64   \n",
      " 18  loan_status              34871 non-null  object  \n",
      " 19  open_acc                 34871 non-null  int64   \n",
      " 20  out_prncp                34871 non-null  float64 \n",
      " 21  out_prncp_inv            34871 non-null  float64 \n",
      " 22  pub_rec                  34871 non-null  int64   \n",
      " 23  pub_rec_bankruptcies     34871 non-null  float64 \n",
      " 24  purpose                  34871 non-null  object  \n",
      " 25  recoveries               34871 non-null  float64 \n",
      " 26  revol_bal                34871 non-null  int64   \n",
      " 27  revol_util               34871 non-null  float64 \n",
      " 28  sub_grade                34871 non-null  object  \n",
      " 29  term                     34871 non-null  object  \n",
      " 30  total_acc                34871 non-null  int64   \n",
      " 31  total_pymnt              34871 non-null  float64 \n",
      " 32  total_pymnt_inv          34871 non-null  float64 \n",
      " 33  total_rec_int            34871 non-null  float64 \n",
      " 34  total_rec_late_fee       34871 non-null  float64 \n",
      " 35  total_rec_prncp          34871 non-null  float64 \n",
      " 36  verification_status      34871 non-null  object  \n",
      " 37  issue_month              34871 non-null  object  \n",
      " 38  issue_year               34871 non-null  object  \n",
      " 39  loan_ratio               34871 non-null  float64 \n",
      " 40  annual_inc_range         34871 non-null  category\n",
      " 41  int_rate_range           34871 non-null  category\n",
      "dtypes: category(2), float64(17), int64(7), object(16)\n",
      "memory usage: 11.0+ MB\n"
     ]
    }
   ],
   "source": [
    "loan_df.info()"
   ]
  },
  {
   "cell_type": "code",
   "execution_count": 773,
   "metadata": {},
   "outputs": [
    {
     "data": {
      "text/plain": [
       "Index(['addr_state', 'earliest_cr_line', 'emp_length', 'emp_title', 'grade',\n",
       "       'home_ownership', 'issue_d', 'last_credit_pull_d', 'last_pymnt_d',\n",
       "       'loan_status', 'purpose', 'sub_grade', 'term', 'verification_status',\n",
       "       'issue_month', 'issue_year'],\n",
       "      dtype='object')"
      ]
     },
     "execution_count": 773,
     "metadata": {},
     "output_type": "execute_result"
    }
   ],
   "source": [
    "loan_df.dtypes[loan_df.dtypes == object].index"
   ]
  },
  {
   "cell_type": "markdown",
   "metadata": {},
   "source": [
    "## Analysis"
   ]
  },
  {
   "cell_type": "markdown",
   "metadata": {},
   "source": [
    "**addr_state**"
   ]
  },
  {
   "cell_type": "code",
   "execution_count": 774,
   "metadata": {},
   "outputs": [
    {
     "data": {
      "image/png": "[encoded data removed]",
      "text/plain": [
       "<Figure size 2160x1152 with 1 Axes>"
      ]
     },
     "metadata": {
      "needs_background": "light"
     },
     "output_type": "display_data"
    }
   ],
   "source": [
    "plt.figure(figsize=(30,16))\n",
    "sns.countplot(x='addr_state', hue='loan_status', data=loan_df)\n",
    "plt.show()"
   ]
  },
  {
   "cell_type": "markdown",
   "metadata": {},
   "source": [
    " Observation \n",
    " \n",
    " **highest shares of loans are from CA FL NY Texas**\n",
    " \n",
    " It seems the number of loans paid and charged off is having positive correlation\n"
   ]
  },
  {
   "cell_type": "markdown",
   "metadata": {},
   "source": [
    "**annual_inc**"
   ]
  },
  {
   "cell_type": "code",
   "execution_count": 775,
   "metadata": {},
   "outputs": [
    {
     "data": {
      "text/plain": [
       "count    34871.00\n",
       "mean     65110.21\n",
       "std      33158.79\n",
       "min       4000.00\n",
       "25%      41000.00\n",
       "50%      59000.00\n",
       "75%      80004.00\n",
       "max     200000.00\n",
       "Name: annual_inc, dtype: float64"
      ]
     },
     "execution_count": 775,
     "metadata": {},
     "output_type": "execute_result"
    }
   ],
   "source": [
    "loan_df.annual_inc.describe()"
   ]
  },
  {
   "cell_type": "code",
   "execution_count": 776,
   "metadata": {},
   "outputs": [
    {
     "data": {
      "image/png": "[encoded data removed]",
      "text/plain": [
       "<Figure size 1440x1440 with 10 Axes>"
      ]
     },
     "metadata": {
      "needs_background": "light"
     },
     "output_type": "display_data"
    }
   ],
   "source": [
    "plt.figure(figsize=(20, 20))\n",
    "plt.subplot(4,3,1)\n",
    "loan_df.annual_inc_range.value_counts().plot.pie(autopct='%.2f%%')\n",
    "plt.title('Annual income range')\n",
    "\n",
    "plt.subplot(4,3,2)\n",
    "loan_df.loan_status.value_counts().plot.pie(autopct='%.2f%%')\n",
    "plt.title('Loan Status')\n",
    "\n",
    "plt.subplot(4,3,3)\n",
    "loan_df.term.value_counts().plot.pie(autopct='%.2f%%')\n",
    "plt.title('Term of Loan')\n",
    "\n",
    "plt.subplot(4,3,4)\n",
    "loan_df.emp_length.value_counts().plot.pie(autopct='%.2f%%')\n",
    "plt.title('Employment Length')\n",
    "\n",
    "\n",
    "plt.subplot(4,3,5)\n",
    "loan_df.int_rate_range.value_counts().plot.pie(autopct='%.2f%%')\n",
    "plt.title('Interest Rate range')\n",
    "\n",
    "plt.subplot(4,3,6)\n",
    "loan_df.home_ownership.value_counts().plot.pie(autopct='%.2f%%')\n",
    "plt.title('Home Ownership Distribution')\n",
    "\n",
    "\n",
    "\n",
    "plt.subplot(4,3,(7,8))\n",
    "loan_df.addr_state.value_counts().plot(kind='bar')\n",
    "plt.title('Address State Distribution')\n",
    "\n",
    "\n",
    "plt.subplot(4,3,9)\n",
    "loan_df.verification_status.value_counts().plot.pie(autopct='%.2f%%')\n",
    "plt.title('Verification Status Distribution')\n",
    "\n",
    "plt.subplot(4,3,10)\n",
    "loan_df.purpose.value_counts().plot.bar()\n",
    "plt.title('Purpose Distribution')\n",
    "\n",
    "plt.subplot(4,3,11)\n",
    "loan_df.grade.value_counts().plot.bar()\n",
    "plt.title('Loan grade Distribution')\n",
    "\n",
    "#plt.subplot(4,3,(11,12))\n",
    "#loan_df.sub_grade.value_counts().plot.bar()\n",
    "#plt.title('Loan grade Distribution')\n",
    "\n",
    "plt.show()\n",
    "\n"
   ]
  },
  {
   "cell_type": "code",
   "execution_count": 777,
   "metadata": {},
   "outputs": [
    {
     "data": {
      "text/plain": [
       "Index(['annual_inc', 'collection_recovery_fee', 'delinq_2yrs', 'dti',\n",
       "       'inq_last_6mths', 'installment', 'int_rate', 'last_pymnt_amnt',\n",
       "       'loan_amnt', 'open_acc', 'out_prncp', 'out_prncp_inv', 'pub_rec',\n",
       "       'pub_rec_bankruptcies', 'recoveries', 'revol_bal', 'revol_util',\n",
       "       'total_acc', 'total_pymnt', 'total_pymnt_inv', 'total_rec_int',\n",
       "       'total_rec_late_fee', 'total_rec_prncp', 'loan_ratio',\n",
       "       'annual_inc_range', 'int_rate_range'],\n",
       "      dtype='object')"
      ]
     },
     "execution_count": 777,
     "metadata": {},
     "output_type": "execute_result"
    }
   ],
   "source": [
    "loan_df.dtypes[loan_df.dtypes != object].index"
   ]
  },
  {
   "cell_type": "code",
   "execution_count": 778,
   "metadata": {},
   "outputs": [
    {
     "data": {
      "image/png": "[encoded data removed]",
      "text/plain": [
       "<Figure size 1440x1440 with 5 Axes>"
      ]
     },
     "metadata": {
      "needs_background": "light"
     },
     "output_type": "display_data"
    }
   ],
   "source": [
    "plt.figure(figsize=(20, 20))\n",
    "plt.subplot(4,3,1)\n",
    "sns.boxplot(y='loan_amnt', x='loan_status', data=loan_df )   \n",
    "plt.subplot(4,3,2)\n",
    "sns.boxplot(y='int_rate', x='loan_status', data=loan_df ) \n",
    "plt.subplot(4,3,3)\n",
    "sns.boxplot(y='annual_inc', x='loan_status', data=loan_df ) \n",
    "plt.subplot(4,3,4)\n",
    "sns.boxplot(y='dti', x='loan_status', data=loan_df ) \n",
    "plt.subplot(4,3,5)\n",
    "sns.boxplot(y='last_pymnt_amnt', x='loan_status', data=loan_df ) \n",
    "plt.show()"
   ]
  },
  {
   "cell_type": "code",
   "execution_count": 785,
   "metadata": {},
   "outputs": [
    {
     "data": {
      "text/plain": [
       "0.00    34871\n",
       "Name: out_prncp, dtype: int64"
      ]
     },
     "execution_count": 785,
     "metadata": {},
     "output_type": "execute_result"
    }
   ],
   "source": [
    "loan_df.out_prncp.value_counts()"
   ]
  },
  {
   "cell_type": "code",
   "execution_count": 786,
   "metadata": {},
   "outputs": [
    {
     "data": {
      "text/plain": [
       "0.00    34871\n",
       "Name: out_prncp_inv, dtype: int64"
      ]
     },
     "execution_count": 786,
     "metadata": {},
     "output_type": "execute_result"
    }
   ],
   "source": [
    "loan_df.out_prncp_inv.value_counts()"
   ]
  },
  {
   "cell_type": "code",
   "execution_count": 787,
   "metadata": {},
   "outputs": [
    {
     "data": {
      "image/png": "[encoded data removed]",
      "text/plain": [
       "<Figure size 1440x1440 with 2 Axes>"
      ]
     },
     "metadata": {
      "needs_background": "light"
     },
     "output_type": "display_data"
    }
   ],
   "source": [
    "plt.figure(figsize=(20, 20))\n",
    "sns.heatmap(loan_df.corr(),annot=True,linewidths=.1)\n",
    "plt.show()"
   ]
  },
  {
   "cell_type": "code",
   "execution_count": null,
   "metadata": {},
   "outputs": [],
   "source": []
  }
 ],
 "metadata": {
  "kernelspec": {
   "display_name": "Python 3",
   "language": "python",
   "name": "python3"
  },
  "language_info": {
   "codemirror_mode": {
    "name": "ipython",
    "version": 3
   },
   "file_extension": ".py",
   "mimetype": "text/x-python",
   "name": "python",
   "nbconvert_exporter": "python",
   "pygments_lexer": "ipython3",
   "version": "3.8.5"
  }
 },
 "nbformat": 4,
 "nbformat_minor": 4
}
