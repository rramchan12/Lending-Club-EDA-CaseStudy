{
 "cells": [
  {
   "cell_type": "code",
   "execution_count": null,
   "metadata": {},
   "outputs": [],
   "source": [
    "import pandas as pd;\n",
    "import matplotlib.pyplot as plt;\n",
    "%matplotlib inline\n",
    "import warnings\n",
    "warnings.filterwarnings(\"ignore\")\n",
    "import seaborn as sns\n",
    "pd.set_option('display.max_colwidth', None)\n",
    "pd.set_option('display.max_rows', 150)\n",
    "pd.set_option('display.max_columns', None)\n",
    "pd.set_option('float_format', '{:.2f}'.format)"
   ]
  },
  {
   "cell_type": "code",
   "execution_count": null,
   "metadata": {},
   "outputs": [],
   "source": [
    "loan_df = pd.read_csv('loan-Copy1.csv', low_memory=False)"
   ]
  },
  {
   "cell_type": "code",
   "execution_count": null,
   "metadata": {},
   "outputs": [],
   "source": [
    "loan_df.shape"
   ]
  },
  {
   "cell_type": "code",
   "execution_count": null,
   "metadata": {},
   "outputs": [],
   "source": [
    "loan_df.describe()"
   ]
  },
  {
   "cell_type": "markdown",
   "metadata": {},
   "source": [
    "**We will analyse only closed loans and drop all rows where the loan status is 'Current'.**"
   ]
  },
  {
   "cell_type": "code",
   "execution_count": null,
   "metadata": {},
   "outputs": [],
   "source": [
    "loan_df.loan_status.value_counts()"
   ]
  },
  {
   "cell_type": "code",
   "execution_count": null,
   "metadata": {},
   "outputs": [],
   "source": [
    "loan_df.loan_status = loan_df.loan_status.apply(lambda x : x.strip().upper())"
   ]
  },
  {
   "cell_type": "code",
   "execution_count": null,
   "metadata": {},
   "outputs": [],
   "source": [
    "# Drop loans which are active i.e there loan_status is CURRENT \n",
    "loan_df = loan_df[loan_df.loan_status != 'CURRENT']"
   ]
  },
  {
   "cell_type": "markdown",
   "metadata": {},
   "source": [
    "### Drop columns with all NA values"
   ]
  },
  {
   "cell_type": "code",
   "execution_count": null,
   "metadata": {},
   "outputs": [],
   "source": [
    "loan_df.dropna(axis=1, inplace=True, how='all')\n"
   ]
  },
  {
   "cell_type": "code",
   "execution_count": null,
   "metadata": {},
   "outputs": [],
   "source": [
    "# Missing percentage\n",
    "missing_percent = 100*round(loan_df.isnull().sum()/len(loan_df.index),2)"
   ]
  },
  {
   "cell_type": "code",
   "execution_count": null,
   "metadata": {},
   "outputs": [],
   "source": [
    "missing_percent[missing_percent !=0]"
   ]
  },
  {
   "cell_type": "code",
   "execution_count": null,
   "metadata": {},
   "outputs": [],
   "source": [
    "#Dropping further columns with more than 50% missing values like mths_since_last_delinq and mths_since_last_record\n",
    "loan_df = loan_df.drop(['mths_since_last_record','mths_since_last_delinq'],axis=1)"
   ]
  },
  {
   "cell_type": "code",
   "execution_count": null,
   "metadata": {},
   "outputs": [],
   "source": [
    "loan_df.shape"
   ]
  },
  {
   "cell_type": "code",
   "execution_count": null,
   "metadata": {},
   "outputs": [],
   "source": [
    "# Missing percentage\n",
    "missing_percent = 100*round(loan_df.isnull().sum()/len(loan_df.index),2)"
   ]
  },
  {
   "cell_type": "code",
   "execution_count": null,
   "metadata": {},
   "outputs": [],
   "source": [
    "missing_percent[missing_percent !=0]"
   ]
  },
  {
   "cell_type": "markdown",
   "metadata": {},
   "source": [
    "**1. Drop some other columns with ignorable info like desc**\n",
    "\n",
    "**2. Columns with unique identifier member_id','url' and'id'** \n",
    "\n",
    "**3. Remove rows where emp_title, pub_rec_bankruptcies,  emp_length have null values as the percentage of it is very low**"
   ]
  },
  {
   "cell_type": "code",
   "execution_count": null,
   "metadata": {},
   "outputs": [],
   "source": [
    "loan_df = loan_df.drop(['desc','url','member_id','id'],axis=1)"
   ]
  },
  {
   "cell_type": "code",
   "execution_count": null,
   "metadata": {},
   "outputs": [],
   "source": [
    "loan_df.dropna(inplace=True, how='any')"
   ]
  },
  {
   "cell_type": "code",
   "execution_count": null,
   "metadata": {},
   "outputs": [],
   "source": [
    "missing_percent = 100*round(loan_df.isnull().sum()/len(loan_df.index),2)"
   ]
  },
  {
   "cell_type": "code",
   "execution_count": null,
   "metadata": {},
   "outputs": [],
   "source": [
    "missing_percent[missing_percent !=0]"
   ]
  },
  {
   "cell_type": "markdown",
   "metadata": {},
   "source": [
    "## **Now we don't have any missing values**"
   ]
  },
  {
   "cell_type": "code",
   "execution_count": null,
   "metadata": {},
   "outputs": [],
   "source": [
    "loan_df.info()"
   ]
  },
  {
   "cell_type": "code",
   "execution_count": null,
   "metadata": {},
   "outputs": [],
   "source": [
    "loan_df.collections_12_mths_ex_med.value_counts(dropna=False)"
   ]
  },
  {
   "cell_type": "code",
   "execution_count": null,
   "metadata": {},
   "outputs": [],
   "source": [
    "loan_df.chargeoff_within_12_mths.value_counts(dropna=False)"
   ]
  },
  {
   "cell_type": "code",
   "execution_count": null,
   "metadata": {},
   "outputs": [],
   "source": [
    "loan_df.policy_code.value_counts(dropna=False)"
   ]
  },
  {
   "cell_type": "code",
   "execution_count": null,
   "metadata": {},
   "outputs": [],
   "source": [
    "loan_df.tax_liens.value_counts(dropna=False)"
   ]
  },
  {
   "cell_type": "code",
   "execution_count": null,
   "metadata": {},
   "outputs": [],
   "source": [
    "loan_df.application_type.value_counts(dropna=False)"
   ]
  },
  {
   "cell_type": "code",
   "execution_count": null,
   "metadata": {},
   "outputs": [],
   "source": [
    "loan_df.acc_now_delinq.value_counts(dropna=False)"
   ]
  },
  {
   "cell_type": "code",
   "execution_count": null,
   "metadata": {},
   "outputs": [],
   "source": [
    "loan_df.pymnt_plan.value_counts(dropna=False)"
   ]
  },
  {
   "cell_type": "code",
   "execution_count": null,
   "metadata": {},
   "outputs": [],
   "source": [
    "loan_df.initial_list_status.value_counts(dropna=False)"
   ]
  },
  {
   "cell_type": "code",
   "execution_count": null,
   "metadata": {},
   "outputs": [],
   "source": [
    "loan_df.zip_code.value_counts(dropna=False)"
   ]
  },
  {
   "cell_type": "code",
   "execution_count": null,
   "metadata": {},
   "outputs": [],
   "source": [
    "loan_df.delinq_amnt.value_counts(dropna=False)"
   ]
  },
  {
   "cell_type": "markdown",
   "metadata": {},
   "source": [
    "**1. Since the values of**\n",
    "\n",
    "    pymnt_plan, \n",
    "    acc_now_delinq, \n",
    "    application_type, \n",
    "    tax_liens, \n",
    "    policy_code,\n",
    "    collections_12_mths_ex_med, delinq_amnt,  \n",
    "    initial_list_status and chargeoff_within_12_mths \n",
    "    \n",
    "   **are same for all rows, we will drop these columns**\n",
    "\n",
    "**2. The zip_code doesn't add value and hence will be dropped too.**\n"
   ]
  },
  {
   "cell_type": "code",
   "execution_count": null,
   "metadata": {},
   "outputs": [],
   "source": [
    "loan_df = loan_df.drop(['zip_code','pymnt_plan', 'acc_now_delinq','delinq_amnt','application_type','tax_liens','policy_code','chargeoff_within_12_mths','collections_12_mths_ex_med','initial_list_status'],axis=1)"
   ]
  },
  {
   "cell_type": "code",
   "execution_count": null,
   "metadata": {},
   "outputs": [],
   "source": [
    "loan_df[loan_df['loan_amnt'] != loan_df['funded_amnt']]"
   ]
  },
  {
   "cell_type": "markdown",
   "metadata": {},
   "source": [
    "**We have 1643 rows where the funded_amt is less than the loan_amt. This difference can be a insight to be analysed ?**\n",
    "\n",
    "But the numbers are very less and hence we can drop the funded_amt too"
   ]
  },
  {
   "cell_type": "markdown",
   "metadata": {},
   "source": [
    "**funded_amnt_inv is the total amount committed by the investor after decision making of the loan application and  hence can be dropped.**\n",
    "\n",
    "**Title is free text field containing need for loan provided by the customer. This has been already categorized neatly via the purpose column. So we can drop the title column.**"
   ]
  },
  {
   "cell_type": "code",
   "execution_count": null,
   "metadata": {},
   "outputs": [],
   "source": [
    "loan_df = loan_df.drop(['funded_amnt','funded_amnt_inv','title'],axis=1)"
   ]
  },
  {
   "cell_type": "code",
   "execution_count": null,
   "metadata": {},
   "outputs": [],
   "source": [
    "loan_df.shape"
   ]
  },
  {
   "cell_type": "markdown",
   "metadata": {},
   "source": [
    "## Standardize data and fix missing values\n",
    "\n",
    "Imputing Missing Values\n",
    "\n",
    "- For numerical variables use mean and median\n",
    "- For categorical variables use mode\n"
   ]
  },
  {
   "cell_type": "markdown",
   "metadata": {},
   "source": [
    "### Remove % from interest rate , revol_util column and convert to float"
   ]
  },
  {
   "cell_type": "code",
   "execution_count": null,
   "metadata": {},
   "outputs": [],
   "source": [
    "loan_df.int_rate = loan_df.int_rate.apply(lambda x : float(x.replace('%','')))\n"
   ]
  },
  {
   "cell_type": "code",
   "execution_count": null,
   "metadata": {},
   "outputs": [],
   "source": [
    "loan_df.revol_util = loan_df.revol_util.apply(lambda x : float(x.replace('%','')))"
   ]
  },
  {
   "cell_type": "code",
   "execution_count": null,
   "metadata": {},
   "outputs": [],
   "source": [
    "loan_df.term.value_counts()"
   ]
  },
  {
   "cell_type": "markdown",
   "metadata": {},
   "source": [
    "### Strip whitespaces from term and remove 'months'"
   ]
  },
  {
   "cell_type": "code",
   "execution_count": null,
   "metadata": {},
   "outputs": [],
   "source": [
    "loan_df.term = loan_df.term.apply(lambda x : x.strip().replace('months',''))"
   ]
  },
  {
   "cell_type": "code",
   "execution_count": null,
   "metadata": {},
   "outputs": [],
   "source": [
    "loan_df.emp_length.value_counts(dropna=False, normalize=True)"
   ]
  },
  {
   "cell_type": "markdown",
   "metadata": {},
   "source": [
    "- Convert all < 1 year to 0 \n",
    "- Convert all 10+ year to 10\n",
    "- Remove year|years"
   ]
  },
  {
   "cell_type": "code",
   "execution_count": null,
   "metadata": {},
   "outputs": [],
   "source": [
    "#loan_df.emp_length = loan_df.emp_length.apply(lambda x : int(x.strip().replace('years','').replace('year','').replace('+','').replace('< 1','0')))\n",
    "\n",
    "#loan_df.emp_length = loan_df.emp_length.apply(lambda x : int(x.strip().replace('years','').replace('year','').replace('+','').replace('< 1','0')))"
   ]
  },
  {
   "cell_type": "code",
   "execution_count": null,
   "metadata": {},
   "outputs": [],
   "source": [
    "#loan_df.rename(columns={\"emp_length\": \"emp_length_year\"}, inplace=True)"
   ]
  },
  {
   "cell_type": "code",
   "execution_count": null,
   "metadata": {},
   "outputs": [],
   "source": [
    "#loan_df.emp_length_year.value_counts()"
   ]
  },
  {
   "cell_type": "markdown",
   "metadata": {},
   "source": [
    "### Convert the emp_title to lower case and also strip off any non alphabet characters. \n"
   ]
  },
  {
   "cell_type": "code",
   "execution_count": null,
   "metadata": {},
   "outputs": [],
   "source": [
    "loan_df.emp_title = loan_df.emp_title.str.lower().str.replace('[^a-zA-Z]', '')"
   ]
  },
  {
   "cell_type": "code",
   "execution_count": null,
   "metadata": {},
   "outputs": [],
   "source": [
    "loan_df.emp_title.value_counts(dropna=False)"
   ]
  },
  {
   "cell_type": "code",
   "execution_count": null,
   "metadata": {},
   "outputs": [],
   "source": [
    "loan_df.home_ownership.value_counts(dropna=False)"
   ]
  },
  {
   "cell_type": "markdown",
   "metadata": {},
   "source": [
    "### Change NONE value to mode value of the column as the only valid values are RENT, OWN, MORTGAGE, OTHER"
   ]
  },
  {
   "cell_type": "code",
   "execution_count": null,
   "metadata": {},
   "outputs": [],
   "source": [
    "loan_df.home_ownership.mode()[0]"
   ]
  },
  {
   "cell_type": "code",
   "execution_count": null,
   "metadata": {},
   "outputs": [],
   "source": [
    "loan_df.loc[loan_df.home_ownership == 'NONE',['home_ownership']] = 'RENT'"
   ]
  },
  {
   "cell_type": "code",
   "execution_count": null,
   "metadata": {},
   "outputs": [],
   "source": [
    "loan_df.home_ownership.value_counts(dropna=False)"
   ]
  },
  {
   "cell_type": "code",
   "execution_count": null,
   "metadata": {},
   "outputs": [],
   "source": [
    "loan_df.dtypes[loan_df.dtypes != object].index"
   ]
  },
  {
   "cell_type": "code",
   "execution_count": null,
   "metadata": {},
   "outputs": [],
   "source": [
    "loan_df.dtypes[loan_df.dtypes == object].index"
   ]
  },
  {
   "cell_type": "code",
   "execution_count": null,
   "metadata": {},
   "outputs": [],
   "source": [
    "len(loan_df.dtypes[loan_df.dtypes != object].index)"
   ]
  },
  {
   "cell_type": "code",
   "execution_count": null,
   "metadata": {},
   "outputs": [],
   "source": [
    "len(loan_df.dtypes[loan_df.dtypes == object].index)"
   ]
  },
  {
   "cell_type": "markdown",
   "metadata": {},
   "source": [
    "Round of to two decimal places"
   ]
  },
  {
   "cell_type": "code",
   "execution_count": null,
   "metadata": {},
   "outputs": [],
   "source": [
    "loan_df.total_pymnt = loan_df.total_pymnt.round(2)\n",
    "loan_df.total_pymnt_inv = loan_df.total_pymnt_inv.round(2)\n",
    "loan_df.total_rec_int = loan_df.total_rec_int.round(2)\n",
    "loan_df.recoveries = loan_df.total_rec_int.round(2)\n",
    "loan_df.dti = loan_df.dti.round(2)"
   ]
  },
  {
   "cell_type": "code",
   "execution_count": null,
   "metadata": {},
   "outputs": [],
   "source": [
    "loan_df.sort_index(axis = 1, inplace=True)"
   ]
  },
  {
   "cell_type": "code",
   "execution_count": null,
   "metadata": {},
   "outputs": [],
   "source": [
    "loan_df.reset_index(inplace=True,drop=True)"
   ]
  },
  {
   "cell_type": "code",
   "execution_count": null,
   "metadata": {},
   "outputs": [],
   "source": [
    "loan_df.to_csv('filtered.csv',index=False)"
   ]
  },
  {
   "cell_type": "markdown",
   "metadata": {},
   "source": [
    "### Split the issue_d into issue_month and issue_year"
   ]
  },
  {
   "cell_type": "markdown",
   "metadata": {},
   "source": [
    "**Derived Columns**\n",
    "\n",
    "Issue month and year\n",
    "\n",
    "Loan Ratio\n"
   ]
  },
  {
   "cell_type": "code",
   "execution_count": null,
   "metadata": {},
   "outputs": [],
   "source": [
    "loan_df['issue_month'], loan_df['issue_year'] = loan_df.issue_d.str.split('-').str"
   ]
  },
  {
   "cell_type": "code",
   "execution_count": null,
   "metadata": {},
   "outputs": [],
   "source": [
    "loan_df['loan_ratio'] = loan_df['loan_amnt']/loan_df['annual_inc']"
   ]
  },
  {
   "cell_type": "code",
   "execution_count": null,
   "metadata": {},
   "outputs": [],
   "source": [
    "loan_df[['loan_ratio','issue_month','issue_year','loan_amnt','annual_inc']].head()"
   ]
  },
  {
   "cell_type": "code",
   "execution_count": null,
   "metadata": {},
   "outputs": [],
   "source": [
    "loan_df.annual_inc.describe(percentiles=[0.1, 0.25, 0.5, 0.75, 0.985])"
   ]
  },
  {
   "cell_type": "code",
   "execution_count": null,
   "metadata": {},
   "outputs": [],
   "source": [
    "plt.figure(figsize=(15, 3))\n",
    "sns.boxplot(x=loan_df['annual_inc'], data=loan_df)\n",
    "plt.show()"
   ]
  },
  {
   "cell_type": "markdown",
   "metadata": {},
   "source": [
    "**We see outliers for annual_inc which can be removed from analysis. 98.5% is 2K Annual income. \n",
    "We will drop all rows with annual_inc above this**"
   ]
  },
  {
   "cell_type": "code",
   "execution_count": null,
   "metadata": {},
   "outputs": [],
   "source": [
    "loan_df= loan_df[loan_df.annual_inc <= loan_df[\"annual_inc\"].quantile(.985)]"
   ]
  },
  {
   "cell_type": "code",
   "execution_count": null,
   "metadata": {},
   "outputs": [],
   "source": [
    "plt.figure(figsize=(15, 3))\n",
    "sns.boxplot(x=loan_df['annual_inc'], data=loan_df)\n",
    "plt.show()"
   ]
  },
  {
   "cell_type": "code",
   "execution_count": null,
   "metadata": {},
   "outputs": [],
   "source": [
    "loan_df['annual_inc_range'] = pd.cut(loan_df.annual_inc,bins=[0, 20000, 40000, 60000, 80000, 100000, 200000],labels= ['< 20k', '20k - 40k', '40k - 60k', '60k - 80k', '80k - 1L','> 1L'])"
   ]
  },
  {
   "cell_type": "code",
   "execution_count": null,
   "metadata": {},
   "outputs": [],
   "source": [
    "loan_df.annual_inc_range.value_counts()"
   ]
  },
  {
   "cell_type": "code",
   "execution_count": null,
   "metadata": {},
   "outputs": [],
   "source": [
    "loan_df.int_rate.describe(percentiles=[0.1, 0.25, 0.5, 0.75, 0.985])"
   ]
  },
  {
   "cell_type": "code",
   "execution_count": null,
   "metadata": {},
   "outputs": [],
   "source": [
    "plt.figure(figsize=(15, 3))\n",
    "sns.boxplot(x=loan_df['int_rate'], data=loan_df)\n",
    "plt.show()"
   ]
  },
  {
   "cell_type": "code",
   "execution_count": null,
   "metadata": {},
   "outputs": [],
   "source": [
    "loan_df['int_rate_range'] = pd.cut(loan_df.int_rate,bins=[0, 6, 8, 12, 15, 25],labels= ['0-6', '6-8', '8-12', '12-15','>15'])"
   ]
  },
  {
   "cell_type": "code",
   "execution_count": null,
   "metadata": {},
   "outputs": [],
   "source": [
    "loan_df.int_rate_range.value_counts()"
   ]
  },
  {
   "cell_type": "code",
   "execution_count": null,
   "metadata": {},
   "outputs": [],
   "source": [
    "loan_df.info()"
   ]
  },
  {
   "cell_type": "code",
   "execution_count": null,
   "metadata": {},
   "outputs": [],
   "source": [
    "loan_df.dtypes[loan_df.dtypes == object].index"
   ]
  },
  {
   "cell_type": "markdown",
   "metadata": {},
   "source": [
    "## Analysis"
   ]
  },
  {
   "cell_type": "markdown",
   "metadata": {},
   "source": [
    "**addr_state**"
   ]
  },
  {
   "cell_type": "code",
   "execution_count": null,
   "metadata": {},
   "outputs": [],
   "source": [
    "plt.figure(figsize=(30,16))\n",
    "sns.countplot(x='addr_state', hue='loan_status', data=loan_df)\n",
    "plt.show()"
   ]
  },
  {
   "cell_type": "markdown",
   "metadata": {},
   "source": [
    " Observation \n",
    " \n",
    " **highest shares of loans are from CA FL NY Texas**\n",
    " \n",
    " It seems the number of loans paid and charged off is having positive correlation\n"
   ]
  },
  {
   "cell_type": "markdown",
   "metadata": {},
   "source": [
    "**annual_inc**"
   ]
  },
  {
   "cell_type": "code",
   "execution_count": null,
   "metadata": {},
   "outputs": [],
   "source": [
    "loan_df.annual_inc.describe()"
   ]
  },
  {
   "cell_type": "code",
   "execution_count": null,
   "metadata": {},
   "outputs": [],
   "source": [
    "plt.figure(figsize=(20, 20))\n",
    "plt.subplot(4,3,1)\n",
    "loan_df.annual_inc_range.value_counts().plot.pie(autopct='%.2f%%')\n",
    "plt.title('Annual income range')\n",
    "\n",
    "plt.subplot(4,3,2)\n",
    "loan_df.loan_status.value_counts().plot.pie(autopct='%.2f%%')\n",
    "plt.title('Loan Status')\n",
    "\n",
    "plt.subplot(4,3,3)\n",
    "loan_df.term.value_counts().plot.pie(autopct='%.2f%%')\n",
    "plt.title('Term of Loan')\n",
    "\n",
    "plt.subplot(4,3,4)\n",
    "loan_df.emp_length.value_counts().plot.pie(autopct='%.2f%%')\n",
    "plt.title('Employment Length')\n",
    "\n",
    "\n",
    "plt.subplot(4,3,5)\n",
    "loan_df.int_rate_range.value_counts().plot.pie(autopct='%.2f%%')\n",
    "plt.title('Interest Rate range')\n",
    "\n",
    "plt.subplot(4,3,6)\n",
    "loan_df.home_ownership.value_counts().plot.pie(autopct='%.2f%%')\n",
    "plt.title('Home Ownership Distribution')\n",
    "\n",
    "\n",
    "\n",
    "plt.subplot(4,3,(7,8))\n",
    "loan_df.addr_state.value_counts().plot(kind='bar')\n",
    "plt.title('Address State Distribution')\n",
    "\n",
    "\n",
    "plt.subplot(4,3,9)\n",
    "loan_df.verification_status.value_counts().plot.pie(autopct='%.2f%%')\n",
    "plt.title('Verification Status Distribution')\n",
    "\n",
    "plt.subplot(4,3,10)\n",
    "loan_df.purpose.value_counts().plot.bar()\n",
    "plt.title('Purpose Distribution')\n",
    "\n",
    "plt.subplot(4,3,11)\n",
    "loan_df.grade.value_counts().plot.bar()\n",
    "plt.title('Loan grade Distribution')\n",
    "\n",
    "#plt.subplot(4,3,(11,12))\n",
    "#loan_df.sub_grade.value_counts().plot.bar()\n",
    "#plt.title('Loan grade Distribution')\n",
    "\n",
    "plt.show()\n",
    "\n"
   ]
  },
  {
   "cell_type": "code",
   "execution_count": null,
   "metadata": {},
   "outputs": [],
   "source": [
    "loan_df.dtypes[loan_df.dtypes != object].index"
   ]
  },
  {
   "cell_type": "code",
   "execution_count": null,
   "metadata": {},
   "outputs": [],
   "source": [
    "plt.figure(figsize=(20, 20))\n",
    "plt.subplot(4,3,1)\n",
    "sns.boxplot(y='loan_amnt', x='loan_status', data=loan_df )   \n",
    "plt.subplot(4,3,2)\n",
    "sns.boxplot(y='int_rate', x='loan_status', data=loan_df ) \n",
    "plt.subplot(4,3,3)\n",
    "sns.boxplot(y='annual_inc', x='loan_status', data=loan_df ) \n",
    "plt.subplot(4,3,4)\n",
    "sns.boxplot(y='dti', x='loan_status', data=loan_df ) \n",
    "plt.subplot(4,3,5)\n",
    "sns.boxplot(y='last_pymnt_amnt', x='loan_status', data=loan_df ) \n",
    "plt.show()"
   ]
  },
  {
   "cell_type": "code",
   "execution_count": null,
   "metadata": {},
   "outputs": [],
   "source": [
    "loan_df.out_prncp.value_counts()"
   ]
  },
  {
   "cell_type": "code",
   "execution_count": null,
   "metadata": {},
   "outputs": [],
   "source": [
    "loan_df.out_prncp_inv.value_counts()"
   ]
  },
  {
   "cell_type": "code",
   "execution_count": null,
   "metadata": {},
   "outputs": [],
   "source": [
    "plt.figure(figsize=(20, 20))\n",
    "sns.heatmap(loan_df.corr(),annot=True,linewidths=.1)\n",
    "plt.show()"
   ]
  },
  {
   "cell_type": "code",
   "execution_count": null,
   "metadata": {},
   "outputs": [],
   "source": []
  }
 ],
 "metadata": {
  "kernelspec": {
   "display_name": "Python 3",
   "language": "python",
   "name": "python3"
  },
  "language_info": {
   "codemirror_mode": {
    "name": "ipython",
    "version": 3
   },
   "file_extension": ".py",
   "mimetype": "text/x-python",
   "name": "python",
   "nbconvert_exporter": "python",
   "pygments_lexer": "ipython3",
   "version": "3.8.5"
  }
 },
 "nbformat": 4,
 "nbformat_minor": 4
}
